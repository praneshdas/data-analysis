{
  "cells": [
    {
      "cell_type": "markdown",
      "metadata": {
        "id": "view-in-github",
        "colab_type": "text"
      },
      "source": [
        "<a href=\"https://colab.research.google.com/github/praneshdas/data-analysis/blob/main/python8_Intro_of_pytorch.ipynb\" target=\"_parent\"><img src=\"https://colab.research.google.com/assets/colab-badge.svg\" alt=\"Open In Colab\"/></a>"
      ]
    },
    {
      "cell_type": "markdown",
      "metadata": {
        "id": "21sa81U8UrXs"
      },
      "source": [
        "## 1 What is PyTorch?"
      ]
    },
    {
      "cell_type": "markdown",
      "metadata": {
        "id": "peFQh80wUrX4"
      },
      "source": [
        "PyTorch is an open source deep learning framework for Python that was developed mainly by Facebook’s AI research group."
      ]
    },
    {
      "cell_type": "markdown",
      "metadata": {
        "id": "Sl5sD9RWUrX6"
      },
      "source": [
        "## 2 Why Should We Learn PyTorch?"
      ]
    },
    {
      "cell_type": "code",
      "source": [],
      "metadata": {
        "id": "qlAZIxlQbXgx"
      },
      "execution_count": null,
      "outputs": []
    },
    {
      "cell_type": "markdown",
      "metadata": {
        "id": "0n_p8Sw1UrX7"
      },
      "source": [
        "<ul>\n",
        "  <li>PyTorch provides a rich library of deep learning models.\n",
        "  <li>Numpy cannot utilize GPUs to accelerate its numerical computations. For modern deep neural networks, GPUs often provide speedups of 50x or greater, so unfortunately numpy won’t be enough for modern deep learning.</li>\n",
        "    \n",
        "  <li>PyTorch also provides tools to calculate automatic differentiation. Hence we do not need to mannually calculate the gradients for updating parameter on our neural network model.</li>\n",
        "</ul>"
      ]
    },
    {
      "cell_type": "markdown",
      "metadata": {
        "id": "GvEDjPqqUrX9"
      },
      "source": [
        "## 3 PyTorch versions"
      ]
    },
    {
      "cell_type": "code",
      "execution_count": null,
      "metadata": {
        "colab": {
          "base_uri": "https://localhost:8080/"
        },
        "id": "doJa3NAkUrX-",
        "outputId": "9e0b7b77-2246-49a5-d707-14725acd5f8f"
      },
      "outputs": [
        {
          "output_type": "stream",
          "name": "stdout",
          "text": [
            "1.13.0+cu116\n"
          ]
        }
      ],
      "source": [
        "import torch\n",
        "import numpy as np\n",
        "print(torch.__version__)"
      ]
    },
    {
      "cell_type": "markdown",
      "metadata": {
        "id": "aVTwKiYPUrYD"
      },
      "source": [
        "## 4 PyTorch Tensor"
      ]
    },
    {
      "cell_type": "markdown",
      "metadata": {
        "id": "VBmUQpGFUrYE"
      },
      "source": [
        "Tensors are a specialized data structure that are very similar to arrays and matrices. In PyTorch, we use tensors to encode the inputs and outputs of a model, as well as the model’s parameters.\n",
        "\n",
        "Tensors are similar to NumPy’s `ndarrays`, except that tensors can run on GPUs or other specialized hardware to accelerate computing. Tensors are also optimized for automatic differentiation (we’ll see more about that later)."
      ]
    },
    {
      "cell_type": "markdown",
      "metadata": {
        "id": "MUgbogL_UrYG"
      },
      "source": [
        "### 4.1 Tensor Initialization\n",
        "Tensors can be initialized in various ways. Let us take a look at the following examples:\n",
        "#### 4.1.1 Directly from data\n",
        "Tensors can be created directly from data. The data type is automatically inferred."
      ]
    },
    {
      "cell_type": "code",
      "execution_count": null,
      "metadata": {
        "colab": {
          "base_uri": "https://localhost:8080/"
        },
        "id": "y_bZIoFGUrYH",
        "outputId": "cd976310-8968-437e-db90-df1321bab7d3"
      },
      "outputs": [
        {
          "output_type": "stream",
          "name": "stdout",
          "text": [
            "torch.int64\n"
          ]
        }
      ],
      "source": [
        "data = [[1, 2],[3, 4]]\n",
        "# data = (1, 2)\n",
        "# print(type(data))\n",
        "x_data = torch.tensor(data)\n",
        "print(x_data.dtype)"
      ]
    },
    {
      "cell_type": "code",
      "source": [
        "x_data"
      ],
      "metadata": {
        "colab": {
          "base_uri": "https://localhost:8080/"
        },
        "id": "V5tPXis7LKQN",
        "outputId": "7b4b5a51-44ef-49d5-8f75-d9db845db04f"
      },
      "execution_count": null,
      "outputs": [
        {
          "output_type": "execute_result",
          "data": {
            "text/plain": [
              "tensor([[1, 2],\n",
              "        [3, 4]])"
            ]
          },
          "metadata": {},
          "execution_count": 27
        }
      ]
    },
    {
      "cell_type": "markdown",
      "metadata": {
        "id": "LO8PmLh_UrYJ"
      },
      "source": [
        "#### 4.1.2 From another tensor:\n",
        "\n",
        "The new tensor retains the properties (shape, datatype) of the argument tensor, unless explicitly overridden."
      ]
    },
    {
      "cell_type": "code",
      "execution_count": null,
      "metadata": {
        "colab": {
          "base_uri": "https://localhost:8080/"
        },
        "id": "H-DH2ZtEUrYK",
        "outputId": "8c011dd2-2814-46c4-eccd-6dab9dd0d002"
      },
      "outputs": [
        {
          "output_type": "stream",
          "name": "stdout",
          "text": [
            "x_ones: tensor([[1, 1],\n",
            "        [1, 1]])\n",
            "x_rand: tensor([[0.8339, 0.9521],\n",
            "        [0.0158, 0.8452]])\n"
          ]
        }
      ],
      "source": [
        "x_ones = torch.ones_like(x_data) # retains the properties of x_data\n",
        "print(\"x_ones:\",x_ones)\n",
        "\n",
        "x_rand = torch.rand_like(x_data, dtype=torch.float32) # overrides the datatype of x_data\n",
        "print(\"x_rand:\",x_rand)"
      ]
    },
    {
      "cell_type": "markdown",
      "metadata": {
        "id": "ggBk6NuVUrYL"
      },
      "source": [
        "### 4.3 Data Types in PyTorch\n",
        "\n",
        "8-bit integer (unsigned) `torch.uint8` \\\n",
        "8-bit integer (signed) `torch.int8` \\\n",
        "16-bit integer (signed) `torch.int16` or `torch.short` \\\n",
        "32-bit floating point `torch.float32` or `torch.float` \\\n",
        "64-bit floating point    `torch.float64` or `torch.double`\n",
        "\n",
        "[Documentation](https://pytorch.org/docs/stable/tensors.html)"
      ]
    },
    {
      "cell_type": "markdown",
      "metadata": {
        "id": "JvpAtY-fUrYM"
      },
      "source": [
        "### 4.3 PyTorch Numpy interoperability\n",
        "\n",
        "\n",
        "\n",
        "\n",
        "#### 4.3.1 NumPy array From a Torch Tensor"
      ]
    },
    {
      "cell_type": "code",
      "execution_count": null,
      "metadata": {
        "colab": {
          "base_uri": "https://localhost:8080/"
        },
        "id": "EPMu5HA5UrYN",
        "outputId": "03b72bff-fe5e-44b4-e566-f98833a84032"
      },
      "outputs": [
        {
          "output_type": "stream",
          "name": "stdout",
          "text": [
            "n: [1. 1. 1. 1. 1.]\n",
            "type(n): <class 'numpy.ndarray'>\n"
          ]
        }
      ],
      "source": [
        "t = torch.ones(5)\n",
        "# print(\"t:\",t)\n",
        "# print(\"type(t):\",type(t))\n",
        "\n",
        "n = t.numpy()\n",
        "print(\"n:\",n)\n",
        "print(\"type(n):\",type(n))"
      ]
    },
    {
      "cell_type": "markdown",
      "metadata": {
        "id": "zhgJ9GdFUrYO"
      },
      "source": [
        "#### 4.3.2 Torch Tensor From a NumPy array"
      ]
    },
    {
      "cell_type": "code",
      "execution_count": null,
      "metadata": {
        "id": "BlXx9ZwHUrYP"
      },
      "outputs": [],
      "source": [
        "n = np.ones(5)\n",
        "t = torch.from_numpy(n)"
      ]
    },
    {
      "cell_type": "markdown",
      "metadata": {
        "id": "uncr_nosUrYP"
      },
      "source": [
        "### 4.4 With random or constant values:\n",
        "\n",
        "``shape`` is a tuple of tensor dimensions. In the functions below, it determines the dimensionality of the output tensor.\n",
        "\n"
      ]
    },
    {
      "cell_type": "code",
      "execution_count": null,
      "metadata": {
        "colab": {
          "base_uri": "https://localhost:8080/"
        },
        "id": "7Bjdc2DRUrYQ",
        "outputId": "44a0dc94-ecb0-43fd-8775-378ca373a7f0"
      },
      "outputs": [
        {
          "output_type": "stream",
          "name": "stdout",
          "text": [
            "Random Tensor: tensor([[0.5861, 0.9075, 0.1320],\n",
            "        [0.1188, 0.7142, 0.2251]])\n",
            "Ones Tensor: tensor([[1., 1., 1.],\n",
            "        [1., 1., 1.]])\n",
            "Zeros Tensor: tensor([[0., 0., 0.],\n",
            "        [0., 0., 0.]])\n"
          ]
        }
      ],
      "source": [
        "shape = (2,3,)#can be list also\n",
        "rand_tensor = torch.rand(shape)\n",
        "ones_tensor = torch.ones(shape)\n",
        "zeros_tensor = torch.zeros(shape)\n",
        "\n",
        "print(\"Random Tensor:\", rand_tensor)\n",
        "print(\"Ones Tensor:\", ones_tensor)\n",
        "print(\"Zeros Tensor:\", zeros_tensor)"
      ]
    },
    {
      "cell_type": "markdown",
      "metadata": {
        "id": "_aorcwv_UrYS"
      },
      "source": [
        "### 4.5 Attributes of a Tensor\n",
        "\n",
        "Tensor attributes describe their shape, datatype, and the device on which they are stored.\n",
        "\n"
      ]
    },
    {
      "cell_type": "code",
      "execution_count": null,
      "metadata": {
        "colab": {
          "base_uri": "https://localhost:8080/"
        },
        "id": "7EQntjc_UrYU",
        "outputId": "d27ff8e5-4201-4132-b108-11db6efa8def"
      },
      "outputs": [
        {
          "output_type": "stream",
          "name": "stdout",
          "text": [
            "Shape of tensor: torch.Size([3, 4])\n",
            "Datatype of tensor: torch.float32\n",
            "Device tensor is stored on: cpu\n"
          ]
        }
      ],
      "source": [
        "tensor = torch.rand(3,4)\n",
        "\n",
        "print(\"Shape of tensor:\",tensor.shape)\n",
        "print(\"Datatype of tensor:\",tensor.dtype)\n",
        "print(\"Device tensor is stored on:\",tensor.device)"
      ]
    },
    {
      "cell_type": "markdown",
      "metadata": {
        "id": "NuitW_ziUrYV"
      },
      "source": [
        "### 4.6 Operations on Tensors\n",
        "\n",
        "Many tensor operations, including arithmetic, linear algebra, matrix manipulation (transposing,\n",
        "indexing) and more are\n",
        "comprehensively described `here <https://pytorch.org/docs/stable/torch.html>`__.\n",
        "\n",
        "Each of these operations can be run on the GPU (at typically higher speeds than on a\n",
        "CPU).\n",
        "\n",
        "> **NB** If you're running this notebook on Colab, to enable the GPU support go to `'Edit'->'Notebook settings'` and set `'Hardware accelerator'` to `'GPU'`.\n",
        "\n",
        "By default, tensors are created on the CPU. We need to explicitly move tensors to the GPU using\n",
        "``.to`` method (after checking for GPU availability).\n"
      ]
    },
    {
      "cell_type": "code",
      "source": [
        "device = torch.device(\"cuda:0\" if torch.cuda.is_available() else \"cpu\")\n",
        "device"
      ],
      "metadata": {
        "colab": {
          "base_uri": "https://localhost:8080/"
        },
        "id": "yxs3CTVuaMn-",
        "outputId": "19841bea-8c22-48be-e2ff-a9e5056bbeba"
      },
      "execution_count": null,
      "outputs": [
        {
          "output_type": "execute_result",
          "data": {
            "text/plain": [
              "device(type='cuda', index=0)"
            ]
          },
          "metadata": {},
          "execution_count": 33
        }
      ]
    },
    {
      "cell_type": "code",
      "execution_count": null,
      "metadata": {
        "colab": {
          "base_uri": "https://localhost:8080/"
        },
        "id": "1PRQpzhVUrYV",
        "outputId": "d4174ae4-5966-427d-c577-90e189ee0517"
      },
      "outputs": [
        {
          "output_type": "stream",
          "name": "stdout",
          "text": [
            "Device tensor is stored on: cuda:0\n"
          ]
        }
      ],
      "source": [
        "# We move our tensor to the GPU if available\n",
        "\n",
        "tensor = tensor.to(device)\n",
        "print(\"Device tensor is stored on:\",tensor.device)"
      ]
    },
    {
      "cell_type": "markdown",
      "metadata": {
        "id": "yM4nnd7FUrYW"
      },
      "source": [
        "### 4.7 Standard numpy-like indexing and slicing:"
      ]
    },
    {
      "cell_type": "code",
      "execution_count": null,
      "metadata": {
        "colab": {
          "base_uri": "https://localhost:8080/"
        },
        "id": "gesL_jFOUrYX",
        "outputId": "f7c12fa3-1693-4ea9-cae9-0cdbc82665e4"
      },
      "outputs": [
        {
          "output_type": "stream",
          "name": "stdout",
          "text": [
            "tensor([[0.0458, 0.9882, 0.1050, 0.9154],\n",
            "        [0.3649, 0.8416, 0.0427, 0.1300],\n",
            "        [0.4724, 0.0650, 0.0696, 0.7712],\n",
            "        [0.5818, 0.2819, 0.6474, 0.2515]])\n",
            "First row:  tensor([0.0458, 0.9882, 0.1050, 0.9154])\n",
            "First column:  tensor([0.0458, 0.3649, 0.4724, 0.5818])\n",
            "Last column: tensor([0.9154, 0.1300, 0.7712, 0.2515])\n",
            "tensor([[0.0458, 0.0000, 0.1050, 0.9154],\n",
            "        [0.3649, 0.0000, 0.0427, 0.1300],\n",
            "        [0.4724, 0.0000, 0.0696, 0.7712],\n",
            "        [0.5818, 0.0000, 0.6474, 0.2515]])\n"
          ]
        }
      ],
      "source": [
        "tensor = torch.rand(4, 4)\n",
        "print(tensor)\n",
        "print('First row: ', tensor[0])\n",
        "print('First column: ', tensor[:, 0])\n",
        "print('Last column:', tensor[:, -1])\n",
        "\n",
        "## Assigning every element in second column to value 0\n",
        "\n",
        "tensor[:,1] = 0\n",
        "print(tensor)"
      ]
    },
    {
      "cell_type": "markdown",
      "metadata": {
        "id": "Cm9Aw1o2UrYX"
      },
      "source": [
        "### 4.8 Joining tensors:\n",
        "You can use ``torch.cat`` to concatenate a sequence of tensors along a given dimension.\n",
        "<!-- See also `torch.stack <https://pytorch.org/docs/stable/generated/torch.stack.html>`,\n",
        "another tensor joining op that is subtly different from ``torch.cat``. -->"
      ]
    },
    {
      "cell_type": "code",
      "execution_count": null,
      "metadata": {
        "colab": {
          "base_uri": "https://localhost:8080/"
        },
        "id": "-wu19UpsUrYY",
        "outputId": "949fb9eb-4935-4543-bbbf-1b91efb8f0de"
      },
      "outputs": [
        {
          "output_type": "stream",
          "name": "stdout",
          "text": [
            "torch.Size([4, 4])\n",
            "torch.Size([4, 12])\n"
          ]
        }
      ],
      "source": [
        "tensor = torch.ones(4, 4)\n",
        "t1 = torch.ones(4, 4)\n",
        "print(t1.shape)\n",
        "t1 = torch.cat([tensor, tensor, tensor], dim=1)\n",
        "print(t1.shape)"
      ]
    },
    {
      "cell_type": "markdown",
      "metadata": {
        "id": "40XU3eQVUrYZ"
      },
      "source": [
        "### 4.9 Arithmetic operations\n",
        "\n"
      ]
    },
    {
      "cell_type": "code",
      "execution_count": null,
      "metadata": {
        "colab": {
          "base_uri": "https://localhost:8080/"
        },
        "id": "eXU_ZDUUUrYZ",
        "outputId": "d357a1ea-2027-4616-fe6f-437661e98e6f"
      },
      "outputs": [
        {
          "output_type": "stream",
          "name": "stdout",
          "text": [
            "torch.Size([2, 2])\n"
          ]
        }
      ],
      "source": [
        "# This computes the matrix multiplication between two tensors.\n",
        "shape = (2,3,)\n",
        "ones_tensor_1 = torch.ones(shape)\n",
        "ones_tensor_2 = torch.ones(shape)\n",
        "\n",
        "#y3 = torch.rand_like(tensor)\n",
        "y3=torch.matmul(ones_tensor_1, ones_tensor_2.T)\n",
        "\n",
        "print(y3.shape)\n"
      ]
    },
    {
      "cell_type": "markdown",
      "metadata": {
        "id": "s2Lb3Vs3UrYa"
      },
      "source": [
        "###  4.10 Single-element tensors:\n",
        "If you have a one-element tensor, for example by aggregating all\n",
        "values of a tensor into one value, you can convert it to a Python\n",
        "numerical value using ``item()``:\n",
        "\n"
      ]
    },
    {
      "cell_type": "code",
      "execution_count": null,
      "metadata": {
        "colab": {
          "base_uri": "https://localhost:8080/"
        },
        "id": "0tV-c9wdUrYa",
        "outputId": "f9b56f34-a69c-49b8-b799-fe023800a571"
      },
      "outputs": [
        {
          "output_type": "stream",
          "name": "stdout",
          "text": [
            "16.0 <class 'float'>\n"
          ]
        }
      ],
      "source": [
        "agg = tensor.sum()\n",
        "agg_item = agg.item()\n",
        "print(agg_item, type(agg_item))"
      ]
    },
    {
      "cell_type": "markdown",
      "metadata": {
        "id": "1WU4YfInUrYb"
      },
      "source": [
        "### 4.11 PyTorch Broad casting\n",
        "\n",
        "General semantics: Two tensors are “broadcastable” if the following rules hold:\n",
        "\n",
        "*   Each tensor has at least one dimension.\n",
        "*   When iterating over the dimension sizes, starting at the trailing dimension, the dimension sizes must either be equal, one of them is 1, or one of them does not exist.\n",
        "\n",
        "If two tensors x, y are “broadcastable”, the resulting tensor size is calculated as follows:\n",
        "\n",
        "\n",
        "*   If the number of dimensions of x and y are not equal, prepend 1 to the dimensions of the tensor with fewer dimensions to make them equal length.\n",
        "*   Then, for each dimension size, the resulting dimension size is the max of the sizes of x and y along that dimension."
      ]
    },
    {
      "cell_type": "code",
      "execution_count": null,
      "metadata": {
        "colab": {
          "base_uri": "https://localhost:8080/"
        },
        "id": "4y0CPtqeUrYc",
        "outputId": "d5457cec-010d-4830-ebe1-923c5ed3e439"
      },
      "outputs": [
        {
          "output_type": "stream",
          "name": "stdout",
          "text": [
            "torch.Size([5, 3, 4, 1])\n"
          ]
        }
      ],
      "source": [
        "# can line up trailing dimensions to make reading easier\n",
        "x=torch.ones(5,1,4,1)\n",
        "y=torch.ones(3,1,1)\n",
        "print((x+y).size())\n",
        "# #torch.Size([5, 3, 4, 1])\n",
        "\n",
        "# # but not necessary:\n",
        "# x=torch.ones(1)\n",
        "# y=torch.ones(3,1,7)\n",
        "# print((x+y).size())\n",
        "# #torch.Size([3, 1, 7])\n",
        "\n",
        "# x=torch.ones(5,2,4,1)\n",
        "# y=torch.ones(3,1,1)\n",
        "# print((x+y).size())\n",
        "# #RuntimeError: The size of tensor a (2) must match the size of tensor b (3) at non-singleton dimension 1"
      ]
    },
    {
      "cell_type": "markdown",
      "metadata": {
        "id": "6oQfzRlGUrYd"
      },
      "source": [
        "## 5 PyTorch Autograd"
      ]
    },
    {
      "cell_type": "markdown",
      "metadata": {
        "id": "y26MmQrEUrYh"
      },
      "source": [
        "In order to get familiar with the concept of a computation graph, we will create one for the following function:\n",
        "\n",
        "$$y = \\frac{1}{3}\\sum_{i=1}^3 \\left[(x_i + 2)^2 + 3\\right]$$\n",
        "\n",
        "Let us find the gradients $\\partial y / \\partial \\mathbf{x}$. For our example, we'll use $\\mathbf{x}=[0,1,2]$ as our input."
      ]
    },
    {
      "cell_type": "code",
      "execution_count": null,
      "metadata": {
        "colab": {
          "base_uri": "https://localhost:8080/"
        },
        "id": "a9fe3S5JUrYi",
        "outputId": "2db2736b-c046-49fd-d150-10b7031eedf9"
      },
      "outputs": [
        {
          "output_type": "stream",
          "name": "stdout",
          "text": [
            "X tensor([0., 1., 2.], requires_grad=True)\n"
          ]
        }
      ],
      "source": [
        "x = torch.arange(3, dtype=torch.float32, requires_grad=True) # Only float tensors can have gradients\n",
        "print(\"X\", x)"
      ]
    },
    {
      "cell_type": "markdown",
      "metadata": {
        "id": "N2EUlfd9UrYj"
      },
      "source": [
        "Now let's build the computation graph step by step. You can combine multiple operations in a single line, but we will separate them here to get a better understanding of how each operation is added to the computation graph."
      ]
    },
    {
      "cell_type": "code",
      "execution_count": null,
      "metadata": {
        "colab": {
          "base_uri": "https://localhost:8080/"
        },
        "id": "dVW9UMCjUrYk",
        "outputId": "a005a29e-2fb0-45d9-9be5-6d145563b46a"
      },
      "outputs": [
        {
          "output_type": "stream",
          "name": "stdout",
          "text": [
            "Y tensor(12.6667, grad_fn=<MeanBackward0>)\n"
          ]
        }
      ],
      "source": [
        "a = x+2\n",
        "b = a ** 2\n",
        "c = b + 3\n",
        "y = c.mean()\n",
        "print(\"Y\", y)"
      ]
    },
    {
      "cell_type": "markdown",
      "source": [
        "\n",
        "Using the statements above, we have created a computation graph that looks similar to the figure below:\n",
        "\n",
        "![Graph.png](data:image/png;base64,iVBORw0KGgoAAAANSUhEUgAAALEAAAEZCAIAAABXc1OlAAAAAXNSR0IArs4c6QAAAARnQU1BAACxjwv8YQUAAAAJcEhZcwAAEnQAABJ0Ad5mH3gAAHa4SURBVHhe7X0FgBzHlfaITLIdO4kveH84f+7+8N0lF7pccvE5zAwXci5kJ3Ecx8wsiyVLtpiZGXe1NDs8092DS5IWhpm5/u9V9czOrmSQYzna1T499VbXdFd31/v6QXWBhl1YVKpWk2ryPFFV/ctYhXOpxg2EY+p8riRKbSyBs/hb5ly/JNLI5Cc0UO2UBmq8z5EHnwe64DDBWFZNvhJUr+vnkMoIwbw4ajxX8MhsAYs6135/fsLtPcetnge60DBRqVQyavKVIFHXgl8WEkUJ4Z2dq8SV2vacrvsy3ufz0QWHCfXvK0eiol/G66IoyF5sX5D5dYUCGUHilvivrzhdaJgY8yTk28gqjcoVDKHX08OE3AbQ1A8Yfdj5oglMvMw0SoJglRqz6lrg+TBRO6J+wOjDzhdNYOIs9HKLQEi3TiPFfHaqHd94pODzTxOYOAv9bSKovd/DrLqTz1Em+Zt8iyPPoPo5dJoo7bzTBCZGEdW7EMGLDhQbqcJKeVYtgUtFBNWlUjkHYZeJqcC6myCYZxYLLFVl+SIrFEp5uq7QI7iR+uWr2C1VKwV+0nmHxQQmRtHfhgkuzFIuW4WgWalcgYyLkHqJc4EV86yQY4U8AYcY6SJLlVgqW42VWB7H5CuFfLkiYIH/lQpF56wq4FScwMQrTiQH1LhQ9Vy+Iv/FE84EDAhX/M0mKGTyLJ5n0ZMRxdTTvLd9zYqdT83f+AB40daHlux4cmfTaqOn1Zvsy7FkgeULrFDTH3QT6m3UMMFVxQQmXlEiQIh38SViAoRzKrAchQorlFk+y+J9Qfv6vc+uP7Boe8uy4/Jm08BBZ6TZFWuWAoeN/Qea5T172res2vnMpoNrnANyjmWhSzKlnIBA7R7UG+OYOO80gYlGGsYEdl4SJqDoc2WWBhdZsj/atf3Y+g0HlrXYDyk+o+LX2wMGOWhQQkbB9pDFGbQ4AhZbv6FFObpu74pdzdv8mcECy8KUwOiI5k5CWbWmNM4/TWCikQQgYLZfIiYgQqChxBI5FnN7rfNXzzhm2ScNGewhK9gRlp0RxRGyKwFZ9itgJWC3ek3I70q4LP36rqhy2Lh79vLH7KfNcDxLhK18uVrTDROYeGnUIrWrqZdCIzDxEgiYyLF0niWMXR3PbJlv6OuQAwQFi9dk81ukgFUKSHIQmLArfofD78BWCijOqNPqM7uishI024a0ht7m5dvnyn3aZMkPhMEGiaJHRCLnkyb0RCOh1gUsXgwm+DHi3eWigpJH4JBjKetp/TPbFtgGYRok04DeHXXJfskeJK1A6sFnBxqcAafL73b4XI6gx+qToDmUoMXmM7hCVlfYbOw7sXTrbNeQESoHXiqZjwlM/H2oQcB1qu1BICpDQtzGc+jgL0WddES2BA2RGsj1zFz/eHt3E4yF5LcIM+EKupQhR1e4R+qX3QFPd6DLMWC390uAhSvQaw+4nQFF8ZlcIdnut9p9EhLQFvPWPdKfsBdYAo4FolP1+uefJjAB4jVdB8RzYaIq9AcBokxbviuCRGwJG9kUi2xqXnNA2mWPWOWQBYYDugGAkAftTq9H7nfsOLbzv799wyWvnnrFP1z2ic9/dNmWpXK/y+nvcvgkT0hy+Kz2IRnH232KNKQ/aNq6p2N9hgVhj3Ab5Zdu086NLmpMwIOrcO9h2KsXzGnkXh0TlCMwQc0GyKCWBFamMDGtDBmX71ushC1gKWiG7bAHyW+we8lSPLLw8SnXTgUm5i6bDf7S974w+ZpJjyx8UhpwuOFkDJmdftlDgIBxsZNPGjSuO/isdLoTaCuzEjWF1u7mvNLFiwnUMlx6/qazEZioUUMGqQey53wHGwEDdcNfX6AjzSKbj61qcR+DhjAN6ZQQeQkUZXhleA+dbu1/fuMz3/r5N40eQ5fX3Rvodg04bvzzL9/xL+8+aj7uDjjlQQtpi7BbHiIkQcc4I7Zm5eCmQysQgxSqOfXa558uakyQZwA0CMLfhhrne8J1AJ0FE9yloBxqY6ScYn/SvWz3fDlghhuBWMMVcUqDFlcQtsMJMR/o3PdPH3/Pw/Me6PJ73F4X2DHgXLNrteZyzZq9q5VBuSfShcOgIZwBB1wQm9eqBG12v2nF7qeHUj0llqVbIj113ukixUSRFbhQuYYQRFU+IjkSE6UzMVGGNcEvpGIqRZbReo5u71hr85mhG3iUIcNbBOPVh3/gggUZkrv8QIMDgPD43Mpp++L1z2gu06zbvxaY6Ap5oFFwJJQEvBB7yIXAFRZk+4l1eldTniWhisTdnG+6SDEBKaoSPhvhBy544UtyfVDHBDcywAS4BCTwMqByciy59cTKFs9+vNxQDNKgDQKGknD4ZbvX1hV2wi4AE93hLvuQ4hx09IZ6rL22r/3k6x/4z/efkJqcPpcCPzTgFErCjkSk2+ZTEKA2yQd2t6zLsjBU0fPc88tIFy0myCus64hRhGw64HkxgX3+E2kaaB1EoUt3z+o8fcQRsMFJROwAK6AADRGX+aQeLiT5jyFSFe4ArIZdOS3/8Z4/T3vNJU88+xhUiMPrRIxKrVhwPsIuyW+X/E5gglo4Trcu3z43zyJ5ajWnq59vuvAwwR+6xApw4/n+34G46MEEiBoszqInkA9tA8Ld5lli7oYHrIFWYIK/7k7uGShQFU6/DTEFAKEMWT1+h2vI7hpy3j/rvktfe8VNd90sD9iUQQl6AoGJO+SGnrB5YTIACye25FIEDAs3Pplifv7B/blg/HLSBYeJagUhH7y/EqpAzXrF6cVgQugJ4Y4ITMzb+KA92ol4AXoCLJwD2A4XkBGQpAFzd8TVFXBKJy033fX7qa+e9oe7b3ENuRFxdIc9nmCX7bSkeBV3yFXHhBKEqjA6Q6YFG57IsSgq5OLUE6h9QKFYLBeKkMHfmQQmCBwkd2zxtwYLZIo4FlSo5mE75m18WAq1Q9uLbxnUxgDl75NgNQgWZCAUS4/xuzd+64p/uOyRuY/IfXaEHnAvoCd43NGNUxB6dMd7zYM2GY5FULZ6DY6gcdGGJ/MsVqAvpbil804XGiZQ9bkqo1i8+Ao8/QtQIyY4j8IEVBq/Se5PpJ/d+ZR+4BhhIkCNTvA0YQiQABScPjvY3Gf84W++d9Wbrpz5zEzPkMdx2tXt6+4OdHHHUyYLEnAQh9ySV1FCwIRNCZqNp1pW7FhQYAlggt/JeacLEBP5SjVP9f73xwRJHJjA26ligmNB5GOXMAHY0L9KgWV3tq5rcu5BpCD5bGDZTzImr4IA4XAOKn+45/fXvPnqFVuW9fh7XAOuPn8vMAHzYTlp7gq5oUugJHCKZcDmCnsIEGGLM2o5btuzs2kj4hoed6ia6bzSBWg78kBGCVHeK/FKvADVMAE6CyaIVUzgpnNaz/EtrascYZton6BvoeRP2F1+JzCx+eCG697x2vf867tvvvP3f7z7j7fef+tvb/0Ntrc++JfDhiOIVx0+q2jgckd6AAs5ZFHCJmfIsKNlrd7dlmUpat6+ODFBHZ15lEftg6iDCiuV01UaWPxyuJy1bxY14nI9k4XsueSfAxPYJV+YfiOTUs2yzOmUZ8WBRRafQQlJrogTsKhjAqHmw/Me0lyuIZ6m0Vyq0UytpS/RrN6zxhNS7F4TAlfLabPidzmCLvqEFtab+1vWH1oylDxVpED0lcOEqCbw2YlXgro9k2r5z3n6uRMVRZa6zMq4NaJiuZIjRf0yEP84MUziwc9gIXv+bNicFRPlCvSZ6mEgr0T9sFNrDixtdh4xDugdYVlgArbAFfBQ84O/2znoAsOT8Ay5XP32voDH2W/v8nfjVxgO+ijqkxwhJ1xUOWiXQ2ZbsLOj6/Ca/c9mWRJBBy7KL37eCZjAK0jqmj+2+oSNLIIxsR31U0M+/3YgKg7ceNBLoxHnimJfFnop5TzHQ8CfoNKg1YhYJVfO9vg8a/cvd0ZsiBecEQVeBWQseR3KkMPudTu9BA7nIDVRdPkcXT7FPaS4B52uIWqwcgac9gDFn1a/bA1YrEGjFDSsP7LUMWQssDR3MFm5/JIr9ByoEROqJPB8/K9gVep8O5xfOxZ8fjAxFkhtsWpIZIqp7c3r9xo3y0GD5DcBFjavhCDCFe52+rs4u6kfjd/p8TvcPtk5ZOsOuLv8HqlfplaNgJP6XEVkR0x2xKVD1j1r9y/Ns0SRZchw1K5yvgmYEILkNEKQyARQqPkIaTWv/qu6X6dX6HYvKKoLqcyJEizfn3Q8vfURXd8Re0AnYhB31GMbsit+j+xDkEl9Kajvnc8Oe+EOUqRq7bfAtYQLYvNbuGtptfqNrZ7mOWtmDqVPQ0nkyhmSRb3yzzNp1Cs1MpEABDUf8QR/+FGHnckXPL28rxpKI6NRS2NbYrksC1r6jy/dOdM62CYN6e0hK7VsBhUYEfHBE/4j2Qi/A94Gdp1h6q3pitrlgMns1dkjZiQMpzuW7njG3i/lqDcNiaCQzyISq1LrtrjgeaQzMKHSGZgYdZhgHNXIIpNT/ZDxSkBDIyYElauFAkulWAhOwJLt87Seo10xm+LvBNv8OrAUNCMqsYed1Ezpc0p+u3nI3JVymoY64VF6ElYp0NnuObJ677Naext8iKJok6CqrJSzWUDvFahTjomzECQMKNQZu3WqQ6ABKPW8Wmn4C2Va2xuHJIwFiBzMGjLgUeWqObzcaRY/0rl34boZR8w7XSGdM6x1RTqdUYM9bJCCJpvfhsjCHvLYQy57WEaOEkam1hU27tVtXLjuSWuPrkADwvJl0UoD042gHIAovTJ6gj4/goejD+4t0qXrjKdv4CKsZpVYqBCOmMajOY3cO48kZFNCZeEZ8Ca94gRtMUzcPccN4W4+8dmPz1ny5LYjq1fsnNPZfUD2tjhCHc6wTg7qJL9RCdpgOGxe6tvtCNssQzptV9P6Q8u2HFnlT5/io30o+KTnQoniZYOjL77DnWcScYcABMlYhA+IMkoqlwrqgOg8VFmewJui7oF8lFKJrF0dHEJRqIQ7F/zKUP1NLRZxM68cAZFAgrojqEqf+W/7613f+O43iywHD9Hjs23Yt2TNnqd3tq5pse8z9jXJPp0rZFV8JuPJ9ib54M62LSt2PbNu7zLngBUViygDfgnMEB86jEqtVkrcfAjEnX/SqNLkAhRRKKCQJfHn0yw5mOrTupu2Nq1atnvuM9sen7fx4QWbnlyxZ/G2pnUd9uP+zOkMiwEZ9Axk+USDPL0wavHjmupAxPMKRUU5VbZ187Z3vv1diUSCv12lVDFZQjwS6TW4OnYd37xy59OLN85csPaxhRsfX7597u6WjXpnqy/Zz8eIQgeXRFfyM/iVIw0XIuk7Ug6sCqdG6AOl37r56Npnts3bod3Q1n2w/eQB3cAhJdph8Xd0njrR7Dy8s23jsh0LcYx0yphHvMTSRRpJXW+oICrhAccvCejn4D9wIhVVZX1dnte86uoTx45Wy+SBipkk8mVAppJnhSzL8AaoWJ6Fs8yPbY5FCvR9K8/RAL9VFMbfUqpGaguoNf/wvPNP5GOW8XrTJRHoZHMs0R/3bG9ev3r/kmPKAXvEpkRsJq9ejlhcSUWJWu0xizWol8JGR9SiBM1HpH3rDi3f1rQpXPIDFnghClWamQWmnRrdXpmH+HuQUAwCFrAgNZ1Ruf6zn5o141FGA3/JFSjQdBJUDQBHoVIushLeHD79COqKZiOpsjR3zjgWcByJgn/rofJwLrwKGl3O31l6f1+BGoU/ASJAFGlOjIR0UvvM1ln79FtcMStETk0oEVkOK1LQbgsoZp9FCllsIZM7Zbf49GB7xAq3ea9hx+xVM6RTZq4AAYuGhxy/VIDjUIOFwMRtf/nzj3/wbfLMVExAiDhANcqCuV4GQoSpLdCnHHIdENqqvxGLQyn198AELsORmwUgOh3H4Aq1OQ84gno5aLD5DFafGYETwmhH2I3AycKHozhCdvOgwea3eJIOKWyG8lDCVv2p9sVb5+vdHTyIgqogPyUPKzR+CWioR6SgLVu2vOMd74iEg9S+ROLkA8W4kEuVYolPSKTKGsRThAMhe7ELV5LHFjWic7m2IHM8fO55Jk2ehkIDEGlLT8eKHQukQUTJZrAjbLX5zEpAdkc9YsSj3Wf3hLrdAY99iPqWdSd6DP06i9/oTMjQHFa/wTyoW7p9sXzawr3OQs1XGp8k1EOd+vv7r7322qNHj4pd8iT4d/liuYAElygXKrV01aDAJc5xoPbDqMu8EWo1euVqEpjIZnh8sWTbwnbXUdsgwiQoBoszoNBXGa9TAQK8dneA+pfa+6W+4Cmpx94d6KFPfGGXEpLMPgNUhSMu2QLGDs+JuWtmDsZOkuIpZ8Y3LIRLgS3wccMNNzz66KMQORRCLg9tT3oeugHbbBGan6wFHz3AxS7Ejz3SHTyDPFKYG2EpyFio9SaOFCxAdP5Jk2EJ8KYja/ZptyFo7ok7zAMmGAigQXzEI0B4Hd1BFyKRdlvrhz7xL7+/7ebe4CkxRsXmtToiCtwOW8AEC+II2w6Zdm8/vjZHMWrNq3gFaUQdPi+94AEvSPW2kPvuu++rX/2qSKNYQkOZmw347zxnpBYAqfoBiZq6wR+oE3gYOTgZZ8cEqZcz+eUnYCJi6e9cc2CJM2RyBi12v1XxKkCD3euGhnAGHDQdAnTGkAx8fP9XP9JM1dx8+01dfj6mxe9QZ9jw0SQbitcGTCgh/ZpD8+WhTsS0eLKGijiPVK83eiNr/IJENr4mrUaukVrpeLnF+92o0uvpXbt2ve1tbwsEAvUcUULj9sVRXczqdUcTlYV8VGojn+V4HPiC/DykSbDAluZVzfb99oDBESCTQdIdcrmDPUjQqJWQ7PTbXH7HjCWzXvPWf7jitdN/d9uv5QGbPMQ7rftcTp+ry+/BFuCQA2Z7VH9E2by1ZXmG2uNe4PIvI4lHFWgQ/IJEx/PPCKrvJ1j8UOPhF5knoBvqLeiwGgMDA695zWv27t0rckY5GeeHcIkzATHiug23/5z8PKQ5mXMt2jHbTt9g6Hu/PSgwQV2DIGNPyCEPWpx++UDnvvd85J9ue/D2D33iw3+571Z3wEkjnEJuaBRlUIZx4arCAUeEvvaG2p/ZPnMwOVDgjtX5JFEd9doZfmYazPlCVC7WOl6Lb9CCRUkCVmqpJH6oCuFAgITsoRi+8IUvPPbYY0JDXAhBFn8CPJJg8m3VH86FNO09R7a2rQYmZDgE9GFGJlsAd9JHg975sFePqdf43V9/58e/+1G7rf0T13/qD3f80eGl0SzQE2RlhhSPz0njpn00qRscC1fMvL11rc6JuBTu0ku5rRdNKBxygvif7715TqIqLJeKeTLVKo+EBU+IdghBQvACBPfee69wI4RlAb0SekLcoeAzqPZLHRNnVssL36FmU+vy1p6DCBnsERqVQL08+MgTyJiGLg2QDnhi0eMf+NT7mwzHOqSOf//MJ3/z59+5vIris0jc84CGQEjChydYXRG3xUuztLR3N+04vqlAsybgns4f4Qnxijew2H1xVKY5Aqg9HvFRrR4Fj65wAQvIXviVSOzcufMtb3mLz+fDbl1P1MFx/qgm9bPz2UjAopFfABmaxXuf6jh91B6x2sOydYj6lLpDDniL7qAdTkN3wH1Ie/Ct73/b3BXzPEMus8v0H5/77B/u+FNfpAt+BjQK1Al0hssLP1TCWTSGyW9HUbqTbSt2LCywBHxp9VLniagy6m85GM/8YqkEabJKoUrfGsRbBUAgp74F47BRkgY+hoaG3vCGNwg34pU3GXUEnMlno0Y0gAUgnhcTc7c9rB86bo/ZpJDN5pftYSdNpuG3SgPGnqjb6DF8/rtf+P3tNzv7nV1Drk5J+7FPf+qmP//B41dwDEyMTPEI724KT8JvlQMuJexBIaYB/eKNMwos8opgopGf72nPJC5vnCLqi2wQV2wqGgQJNQC7IBI4BSbjgQceqFsK5AtX4+/hUuAeRtw/3zYyPc4w1yvquUkza8t9joTeGjRa/FAVTrBl0OyMKO6gDO/yzsfv+MCnPnhc39wb6LWflIwOwyc/+5833/pH55DN7jd7wh5pUIK/6fbZBCZsPoc93GPzKSjh6fVPFFj4FceEmv2iCJKn9iTUFN+qNVuvRH7IGeYAaPjyl78s8uso4b+8IiSeUb2guM/6bZ+VG3DQyM9NmjnbHpAiHZaAQQ7TuFWrT+qKe6xeEzDRam/66PUf0Uznw5XAV/DtZI1migaZDy26G5igtk74oUHF4TPDmsg+p83nUoJOBCDPbHoKmChTbx2VxIuFGnwZK/GMZ1Rl+aKIn1mh4dojShG3V7cdN99887XXXst/YQcPHoTVEG7E34fo1nBX1NOmpqhoO1yp4kHAgGsZqKXcxvouFRraZM5G8CdmtJ86BNth9ZkdERfBYsgC6SpDZrvXtmbXyuVbV6zbtW7NjjWrdyxfvPbp9/7bB7/z0+8t2bzwiGW/ecDSE+tRBiX4E9ATjoCN+qqHPCin1dO8atfTjbaj0SdvTP+NVH86Lj/BL5JKatMyzkD1kc6ojzyrl0l1/Zvf/Gbq1KkbNmyAG/GmN70JbsTLeP/nShQ/izvjJJCAx1DvFk8F5wiH8Fzs42+uRLgAwNUjaKeWOBtpNpx4tqX7gNVvcIRlBB1gadAGNxM+Jh99YHcHPB6f2+11KadtWrn94//1H7/7y034qSvKZ1TheqIn5HT4rDhL9tktQ5I76jphP7znxMYCiwETdXN7Poi/zcI9VD8WqD88L6m92ah2eAH1asIGZfHvV/w1o7x/+Zd/0Wg073vf+775zW/eeeedwl783YjfdjFP7SXY42aPPOIC/7YCFgYDCTxWoULpbJkmMwHjBLwF+PP8TpemtevAbv1GOWCikQh+SfLJYp42SFrqt9IUnjQ1guwJuhGDdDq0H/3Mx35962+dflkJ2hCn2APOrpDbOUQzeQETOF0OypLftLNtk87RUmBp7rIRiWeox3I8728nAQiBhnyt5/ALUCkXYizFylFWQiJCXEUixliCuiuLATY1wp1eddVVwMSUKVOuvPLKp59+ur293ev1qj+/4lTXUKhBrtfwthV5961sntaPoYRIFymdz8Hxpb5zOKySK6N+OCyelzSDha7F22Z5IpJtUO8K0tQqwktwBV3OgEPEpfRpwytDZ7Q7Oj7y2X//491/dAUUGqbiVxxBl9Rvw0+AhfWU+WSyhxpDA7plOxc8OPMeR5edvhQ3tAC+3ITnQ8mqhniRmPD27rPplpjb5nccfaz96COdTY92Nj3uND172r29nJBYNUjzn6IyC/RyeQd9l112GWwHYAG6/PLLsb366qvVsl5xglALFdINtV6S6VMRj/Vkx/YTa1bunTt/w4Nz1t27YNP9y/c8ubttaZt91+m4hy8VAJSo/T35qmMNyDrj9dSkWHjdoWVN8gHAgs/PRZ8waPwatj5qhlJ8Fk/EbhswE0q8HppPY4g+d1mGjFJAkbyKw+/oDnf1hXsRlFoHaMGS48r2Z7fN/tUfb3z9m9/06c/854IFC0IhvIhEIlp7ue0xShtWGGre2UjqWK47NnPAuSbWv7UQ2VuN72WZfSy5myX2pAY3DzhXm5oXWFtXpQbNrBJhZeiM4uH9+173utcBB5MmTZo8eTLwgUDUZDKpJb6yBFlCqHl4CITZtHLKsuXwGrx+O9rWNDn3dJ46JAVP2KMtcrjZMLi/ybFxn3H1yn1Prz+4Uh40ZVmchhmqc5uglrgIzoqJDIshZFh7YIkzYIZfSW2XPpfD57F73YgzEV66w5IrKlMTJ7Vkd0kn5ZORHmnQ4og4nFG3FbEon5/LMeB0B1yeCGyHdvOJRdJgO/QVbNi+/Qe///3vX3LJJd/+9rc3b96MS77MgMAjoTz+YNw1qDGFl0VWhVyD+Zhs160xnZgbObmDpbQs0c5ibcRZA0tqWbiF5fQsrcsHj7NkR8J72Hhigd20opTWsWrfzBn3ARDTpk2bPn36F7/4Ra1WiwudP/fo+Qm4L7BEnsV6gsrO5vVr9y89Lu3vSthtAaM1qKcOb1GrLWgGKxEZbAuY5KCh2b53/aEl24+vGUr15FmySAYdbyYeoRamjiRNjiXSLLzpyKrj1v1iqhRyGwNuV7gbzoEzosgBM0JTZ5h/2hh0ddE8Cg5X0Gn1WRG4AhZ0WIA6W5Be8RqPWHesP7wwx8IwY3RZfslcLrd06dL//u//RlB34403Hjt2jF/9byYUXnOf6klhTTinWWEw5u1s2jd3qGs7y7WxVDNLd7J4J8tYWNLComaWsLGsXA1rWaSTlZVyrK0Sb2NVY7d9eeuxhwJD+//tQ6+/arrm+s/8h75Txy/Ju8aI1MtDL+oN4UDHOwYTEDF0HX9608zDpl3usM000OmKK9R5JUKtjlJIloJ2KeiwBZxgJGh5qZDBEdQfNu1YtGm2sauDoyoxDIszbgCYSOZZKpAfmLniCV1PG0AAYZOfGKKuufYwLVSEYIQ+jPlcbq/HNeABLFx+N5wJKSDhPuQwDY8H28NyR0/r3DUzvJk+PigImlx1J6EbROLUqVNPPPHEhz70oXe+853w4SVJqvubSNQPE+l6vkjUHX7xE23xVzwX+VAlPnQJB+MvXMgkY+Fo/yFj86z40CGWNbGElmV0tE3qWNrKklIVmIhbWBrbTpbQsZSepUzVOLZ6aI7o4G5z21xv3649m2fQkBf6qg7zVKG1HklINYWHFN0g9ogo5xxo+AGIxIOKAhEoi+AIP1PfnFKmEkUcZ+htfmbXXG1XM2w6XlRIgUeL8Ost9pDEg0eoajuNRw3QYGWECF1hu91vsvkM2t62pTsX6XtOAFh8qBkqCm+OOhahThphmQALpd+6dPti/SktLTIQlaB/pFBtuSL4khwTDq+zL3ySz+BHqgLQocPCZmvQaPLpDAPaZ7ctsvYZhetbLONiw3XUWGUQs9FovPXWW9/+9rd/7GMfmzlz5uDgoPgJVG8hxmH1j08CEI0/8T9CI+APud85mmusVC7EWSXBqpFIv1Z/dGYlfrSSai3HtZA3SxpZRs8yRpawlCMmFpdYSiZMIBOWAlDI2FhGZikbgSPRnvYfMJ2YmfI1s5yP7Dh9LVNDProkxYA8RTod9/ESSGACrJYznKBvN/Q7jROgI+BRJvSepqW75mlPNtNCUTTpP41P518YJGdAgTvo4qvCIB6kb5mhLnmQWhMcXuhvszumWLwms1f/zPbZ5lOw7HhpEWFlqzCvI0mDuAAYhN8BKZo8nYs2zbX0a2lKjZBOCZvo21iEJu3C5QELZchhOWl2hxCSKNYhCxSDMybLITPYcLrj2e0LzX3GHI1uy3FfT33pR6GhnhZWed++fb/4xS8Q5n3lK19ZtWpVJoMbVUmcLsJXnCV2cZYoAbu8AwRVHDKKrJzlwxUJGOV0MWHvPPp09OQB8hiK+mqqoxKD1K3VRCfLAQQyASKpVGOWUkRHmWkDDqjEoE4s1ThsioGsTFYb79+rPTKfZbtZNYp7wdUBCIBQ9LzFDUB3lArqC82dmHMigQleISiBF8K3/Kl4DjaAHl7dvrBj8caZxlMtStDsCNugJKRBmzxEhtsTdlPj0JAVsgcs8LrCjit+F582iTDRFaEpea1+I154Q1/b0xvnnAy7oSpgQSpVtYtQnTTifmiOUopV0vJJ48J1Tx40bXeFjTQIOqCHzpH8JoFKZ9jlCTspPInQlPFWrwGRp2VIf0TaP3PFY9Y+PUIjhMUARAlKAs9Ti4XxloOEUAUJSde7JmSz2ZUrV37jG9+45pprfvSjHx06dEjkgxqbNBq7MhAhjxxKSkAa8KuziBeq8GRi9s51/Y7NLG1jCWMx3lzNdrCUBfKuJPRgQKEaswETpCeQD/1BWsTMklYWt+Iwykx1QlVUoh1e925Jt5pVTlHJNbcMVy0UAV/gkcsNqoL63ZwrJkBc/CBRrkiomZSPC+ZZPsOSe1q27OvcSm9sgJYaNPUbPWEPWPEqYGu/BaKBOwhkiN4OeIERP8LxFxDBO6yErRafHu7B/s7de1u2QPHAfKhr0DUQHxvI7yZfINSUWOpU2AkfddWuBc3yPk/U6o7bJI4vJSTZ/Babz4h7AlDgvDjC1hP2w/BPEe2ECz4+vDiragigAVwZrVQhWkH13boCAKFavV7vnDlzPv7xj7/lLW/505/+ZDabRb44AASI4HiAg0qpVouFHOwuFC2eI8tSFRaHJ5HxKlLbMpbVszDMgVROtJXTHbALpAbSpmrSxDIKyzjKUakcs7K0xNKWSsxAJiPNUQJkJAARuB3QFjYW18u6xclIGytESERcgnRTUEz8LS9kK2VesS9pIjaOMhCXAidcoMTnmKaaoTZKlnf021DJ1F4QtnniMBZWh9/eG++1nuaLivmdPZEuZcjqCihdYafUT2tIdYepbz01HcG3GJLtQQe8UUfU1tmrPZns2XBgmXJSL8YkiqvWieuJMm9Fp1SxVE2VaUBjqstr29G07plNs7c2r9X2njANaM2DnQABzIrh5IlW55Fd7ZuWbJuPG3UOWIEGvuI2mQx6e8Tj0aNRAg9WtxeCkIMtMuv59bT4CSTL8n333QeH4yMf+cijjz7a19eHzEZw4Pjbb7/9H9/8RqRxDjABo0veZdHraN8QP32IRVvJRkTgMJrLKR1BAZogYy3HTBVyLe0s6SBOScWIES4nNEQlyvUE3M+4sQIXhMITWBl98PQmi24RYxGaGISeCNCEe1EsqaqCPyypwxEvwIujs2OCxhGSSQQmEH+mNx1cc9i8BwobMSDNekPz9LoACCgDyB6unjIo205blEHJE3S5ybVUwMAK8skXDHXRVws+sM8dddl9Uot0cMuhlXwkzuh7BiYARJhDfnXSg7CVqPgCBJxnmUB6QO9u23JszZKdcxdunjF/42Nz1z+2fNdCMa7clz4FNMDiYAsdgxOpBKgH/njcSVcvA0nXSc2qEXLqgKiTUAaCjh8//vvf/x5B7A033LBs2TLAom5Bdu3addlll3z6058S9ZmnT1hp6ADzkbksqmVxHUvi7TcDDSVYhzRwYKnCLqTlUtxWisss46mmHJTIOkn2KaUSt3G4QIvAsgAoFgZFktCz7FFD28xc3E4zYaoIQF3hNsjxLEJnkTNIFShu7BxI3LogNYGnoJqkVIUaK09Hu1btXeyM2GiRMPh2olmZmgp7oCTEqkE9QU93wE2dIGnefxp+gTQMBy0NQQuZumSf3eozw/8zD5gcfurvsmrXoqH4KZQvrlonDa5bWxm9Jk5OAqE0+JMvoppjkRwL8jXskIghh8+UkAIa+OwZ9BikOcUT0muECiLiNaUSBCwSQICQN6gRDRwbo6uV22k6bOvWrd/85jenTJny4x//eM+ePfhJr9dfddX0yy+/9Nvf/Q6K5t//UgP2rQHHGlL7ER1ecZZEBGGppm1QD2QmkrZc0LB304zvfPG9r7+KOgJ88kPXzbj/l5GT7SxhZzkXMAFvg+wIzEfMyOIAh4FljvY5lg32HGLlMAUfuEd6lFK5kklnYnPmzMMubpLf7zkSTqqfpyZUTMAiCsOh9zTv6linhPkgmgC5kBCz3UefJxEAmrqMX/7hl979r+/Y37YHsLD3S0aP7hs//ep7P/5PzbYmeKA4GIBAhKKEKPRwRZy02FjQuuPEJqNbC/mKq9YJmIDq4KgUNwcmeKj3R641NT0htoSvABwk+IDoLHwTMRuJ0A3iUHGKILHXkPG3Uh0rfr9/0aJFn/70p9/4xjciYLnksmmaSZrrrrvuBz/4Ee8rkPAYVyT6NrAkZKxncYSd5DlWUrAIguWZD/7yzddq7rv1O8f2Ltq/bc4tv/7yddM1997yvXwEJkOpJsh2ECZgaOImci+gctInQie3Os1rGPNSlIaHrrJEInbXvX+deqnm0ksvpTsj1Tj8ArxYaqwmNYHSSZ9jrwB/iWV3NK1ucu6RIxYpZHNF3HAORLgB0wDu8nt2Ne182/ve8v0bv2vrsbgGHLfc/4fr3vHqlduXOX3U+Z7QUOeAnXpiBy2Kz9KiHN1zYnOWvgKOIA2EylV8g1zBAhNgIihJHANnhJjjQFUMo8/ix4u/qBvBPO/lIaEw6mmHw/H1r3/9sisunTx1ikajmT79qj/e/CdWjFibYDj21jCBqNJcSRNzz9F2Wjnw42/829xHf13NOCtpVyFmTwelW3/79W9c/74hTzOpipRE4QlcTugJOJhQFdAT6Y5C5Ki2aQ5jp1ilmE+Wb7/trunTp0+ZpplyiebZZxeToyOe/FzpLGcBENx08goEJpZsn6U9eQiYsAXpw3VXpAuAQKwBj0Hqt3UHugCLOUtnTX/d5U+vXrBq24pr33LNzXf/jj5B9NsIE7wLBLHfRbAAIILURUbf2w7zkWXqp6g60bhyIbnhGxM7jXxWqv8qEFU7UvzlxZLq43kvDwkzRJXFkTF79uzLL7980pTJ0BOTJ0+eNGnSlElTv3L9v3cefIwlDnBMQPMDB9ZK2ljOQLRIw2lwVxKuYsIOQBTjDlbsKyS6Hrrrl1/6z3/297WxrLvKwxDyQkjHIEIRkaohH2qydszPRHT33PqHSzWA4tUaXHbqpGuuexXeEHiXoreLuL1zIZxSP4sboGoBXCjgPaRqTLPE4q1P2CMd1oDJHnHZhmTEnzTgyit3hWhJGOW0Df6Ewan79s++/fp3vv49//qer/7wy1qltSfgdvOlSoEGbIn5uCyOCVrIDqpi3ron4A/w2h0m6AlVilTNRELCnBt/AzfK/qzMSSTPByYaCf7m1KlTX/3qV19x5XQwAPGG173+U//+yRt//DXtgYdZ6hA1VQEQFERYAYhhTCTd1WRXOenqcxw6snfxsqfv/sUPr3/nmy/92uc+GDzVWU5IOcQpKSPLWggQxLAgepaHNels2vfwz7774Vddorl88uWTNNOmTrtcAxxeQqC85JKpkzSaKZMImudGmmkEZpUoMRkQn6SZOvWSSZMv0UyarLlUc/13P2z1NznjitkrwTOAkkB4Ca8CUUZ32APBw53sDXQfaD3wf//ln173jjccbDvY4+9yDshd5EwITMAn5ZgAB8h20KydIWn++iczzK/WaY1q82MOk5B8g2kAiWPqmHgRxM8AIGolvBxE71BNW+zfv//BBx/ctm2bwWgOhaO8YaBCPSuriba9DxAmYDgS8BPJLShn9GDCRNyeDcrbVj/1wXdPv0KjuWyS5rMff8edt/zPD77xH1/87PsCJ7XVlMIjFEQret7uiRiE4lKW1FUTHR1HZiFgeeCvN10xaer0y6Enpmk0U6+85lo+5oxqBwEkf93PhfDqkXoocx7WE6g+uBJw+mE7Fm54wBlpMQ4ZPMmTCqBA7dnUtUUetFBHFi+NuYKqmLdy/rRrocI0dzxyB7wKGtNLPRl4K7i6jAjpCcJHAJgwI7JdtHnWWfSEkB6xSkLydeYkDsAeP0wcO3zGWYl+bijh5SDhZqLWRCyqtm/SR1cRN3GLzmL29nmFwHaWBCbkGiY6K5lOGBFgwtq2/X1vv/q+v/woPASgdOfjnlTI/di9N335cx/yndKynJNlrdTOnRRt4TgdpgTRirYQbja3PMvK8CcS5XTyrjvuveSSq6deeuVV17525uxZCJBpMrDGF+lFklqPjXVF/gT2qImAPkgkVu2ZYRo4aAtaDf0yjZbg/SOdAcUTopXGHIMSMHHceOw9//b/vvOz79/4p//9h7e/fseRbTRei/QEACGr68pwJoURQFhr0Z06sXzXwjQLq5et0ch5dDk1Zgiu3TExdvGe8i2lhTKoqYQai9Pq/HJQY0xbJwIJLowtXbRIrSzlYI9leaRnHWEiCUzAgTCXs+2VDNwLYMK5dtHD0BCtR1fnoDNijlKmd7DX+KXPffjTH31nt/1IPmYpJfUABH3sSCHogKaxl6ImluuMnN7t0G1gVS+rhFklg0g9k6nc8pe7oS2umH4Vf/BiZeRnvxdFav3welOJWsOQTyqEUJbd2bL4iLTWGXXawz1Wr51PFUTDu+1ei8Nn7Yt0WXqM3//fH7zzQ/8XbrC1W/rUF//zP778qXa5xRNyQPz0LYKjAVYG4BCqwh42HZF37WrdlGZR9bI1AiZw5ZoUOYlkI/PbFdaEghSOCeErjODag50XTJBSRdEwEg1NmcNUgRKGnoDCiAy5tw0oq8gxBCDidqiKSkbLMQHPwN5lPPCBd17z+f9419plDxzdt2TmIze//92vedsbLvnoe1/vse6rZCSWt5bTCD7Vr2KkaehjaUuPvHLAfYT6X1XSrFIAEHFDqI5EJv/UzNn8S4eoorpoXxyp9SOqTiS4nuCYQKGwHVrX3t26FfawbPMptCwUBaLwJ+y0OCUsyGnLU88+Mf0NV85ZPtc54LH3O1bvXHXN217154f/ZD1tdPoRekBPCCUhMMG/rQf0ezo3dLiOZ6gj6gg603Y8F4mbpvsWx77AGS+22L+d+EcByALXou614WrWCsPPYgg+XSyAwFIhfOSMlQRefVslZjceW//9L37wjVdr3vQqzU++9fGWgyvaj6x+y2s0R3fNZxm5mDCwnAm2hpCR1bOMiSXbqunDupZZ5XQvq+RIUEJ8ox9RrZ9zooYScK5AlQosvGdIZVnOm+lbtnu+1ddJTZk08I6aJaR+0hB49Xe37nz3R9/1tZ993T7kkAckIfv/vfOX1/3TNct2LRbrHwvvEv4pQllXzGX1G5WQcemuef58X4oFxOXrJOa9G7ukigGvFKqWq+4YK/U6TZvi/cfpS0fKThw1F8MdLGOsQsAZRyUmVxGFpj20TThZrqccRVihsIxCLZ5JUyWh5/0tYH201EUv2RIf2mnqWAzDRIYKmACrVx+mkfh4sXQ2THAVxC+CnTx1y05tPrq21XXAGTKQA+FVaChv2CP1AyIKtV7TkAsXQlMEqIhHTCf10A3SoEUeosVOYSyoPcNPverdcbfVZ5aC5hOuI+sOLc/Q8sZn6okxTsKmqEQyguKNxH1aqXMRSx6H3mWRDu5Y2BBhVjPQAbZcDFsHS9rKEQsQQ51r4EUi/syYcUAx2k6eRNpWifBPJKlO6AlFtzTm7UBQQ/2lq8NDgxpoBD5ePD0PJrAp0AfXUp5lbf2GNfsXu8JGZ9DSFXVQf1i/3RP2CAUAwVMTFh+BgUikN9otPoOJA2jioQDNVojg0+YzI+JwRqQ1B5YjbMnzb1X86sM0DjAhtvzNRRp/q1lWHFCMywa7VrLkYZZuqcItyMCxIAVAqiJPrVjFqI6CzKxETG1TtlJES+3ZeYWlrNRVM2ykRFo35N6h6LYwxGzVNKOhCaqWIKrJ83xgAraDNxjDXGWyLL6jae1+3RarVw/N74k7Tf1GvPdg25DcE+sh8ftp/BVUCBQJfQ6l3jR2p9+NA+BAUJ8aWpHK5gpZ9+t3bG/enONLSqWrw52YBI15TIhK5XLiUsGG3L9EJa0cP/BQNryT5Q6zVHM11g5lUIERibSxjK6caKe+2gVjId5B39DjAIFCHHGwqJ1Bf0Cv5CQW7wj17TE2Lc2He1gJgCDvr1SuTaoxLE+6qkidKw2XQSWM1BP8b5G+RBYLLD2U6lm8eY62t436wIYsXSmnWBTIGbVbBs0WQCHocQdpeSkH70oDVQH1YA84gRvR19oRNLrCZkNvy9PrZg0mTmVpcilq2BlF4w8T0OyoyyJsf8Lf2X788XR4O8sfpR7bCCzjEmwHdeHP6qspLbxI+A30aQNaJAbPo5tFnSzKDU1cx+KthdAxWbvM23uCT0uPCsRV8OrSR5/6pTm9XJjgLJ4ISf4D9kUXigLMW1fHsr3PtvWeABrMXh220Bm2gMkRUfgKU7K139oV7iEHwuegJa+9smXQ2pvplfzUnt0Vs+l7TixY+6Sj34JwpsRKRfr0OprGCSY4oRYhKj4yWFRvIervbzK0zcpGdyJwyAfb4EaUY+ZK3Ez9thFfJLjtSPBO/YhTwBkb9c1MtrGiNj242dQ8Y6BrL1mNUhlWCeFulSYqzJd5O2PDdQW/FBoupl6OyOIsVAXvM1vMluMFlujsbn5m9zz9qXZHGPI2d8U9tKw5jaugvhE072CQ5hsiO+KzuyJuJaRIAavNZ1R8RmNf6+KNszxDUpGlcuUMnPJCqZjnM4I30tjHBBSDWqmoUMKEWrdcB7OSP+xraTr48GnXGlaSylE9WQoChJl8hZiJ+lhQP01EKFqW6WC59mq6hWXbT9lXdRx6JOE9zNgAjSMVpdHFCvzjcE1yw1d6iaQWoxLKGcYE6T7+Gx/NR5+mM5VojkWsA52z1zx5xHzQ7pNkv2TzWpWQ5IhKFp+Bd9W0wUwAGc6wAz8JXeKKyodMuxeunSmfNAIQvEdcidpez0ZjHxOiHoeZE6oSyoI+fwAlsVTYJunXKZ0rwyf3shTCEP4ZnfxHQgnLm1iyiaUPsdJRltnv610jaZ9xmDclgjY+wjhFhaBgEg8EA9sBZKhi4yjMi+uqGS8XjS4Ol4C2yCNMAJ+Odu1p2bJu35Jm6aAzSFPVwjpAcyC4QIKsSdRmj5htAb0jYj5uP7h6/7KdLVv7Y33cZIg5WQU3VFqNxhMmODVWJRKwIwjlKmno//hQh6xdYWte2GtaHTt1MO1tLsNpyBhz4aZi/Gjw5MYu62Jjy0zFuDzi62T0FSBbKeDcukrARvQd4Xs85xXEBAhYJCOSo2WJEUMmnYPmzYdXLt3+9NbmDS2OY7qeNuq0HSF3UtvXdMi2Y3vH2md3zNl4dJXDJyHKyJBTAkBUuIaowwI8gsY8JmpVxzEhdvi+Kj+EqlSTFVZMs3KIMW857gx0N3WbtxibFrbtf0x35EntkRm6Y/Ptpk2DJ1sLqQFWSVKHNzj7ZTIRKlOZw0qCAmB+lfOIiUYSRVPpuBDuAYFPno+9yOO996b6Td26nU0bV+5ePH/9k7NWPzpv/ZMr9iza27mtw3Xcm+3hfSWBoZxwkuFD8EJRFNCAtNgdpnGDCU7DdQcB5lTDD8IGTKMzkqwUZ9UYK3tZ9RRjPVdNQg30sko/q4ToAJyLagPT8Xwr0vQfwgAs+BXEH6Lh92w472UnUbTKQoq4ExGjwprkctygZFkkyxcOAgiyLJrh3WaR5v0ms9lKVvgn5bIYVIcnEjd/0WCCv9DExXKhUMhREvlFhA9wNPiK89V8NRe7RKOhNi6gAfmoKFSRqDleAo0bUQukuuMF8t1RzKkheU4E2RDoQPXy6qxSY5Y4nG4E/8mUAPpQGFxnQHmIqUhgI9LwJct8UGiRD+LgVaHCV0xyVStLzazT2MYEngwSVIWI/41MACjlSqgyQgY9PDLhdBZUMVNcWWWTNFPpfLwq2Naqu1IR40JR49gXpaHiVCVRI16OOIXncsTw48+NRBFEovxGVqkxS1wOTBuIOSfm9xR3ixzcOZ9egkAMFsFFpVIR3U1EWiSei8Y6JmAgqTqoikR91aoMngT+QtComwJeePqB5ErLLQEt1YJ4aSZPnirAgWL40CuVUbO8GEHiXHo3eQ52eaVjRyCJ5+IS/CrnSjhFPUuUjyLBorQRZfKf6R55Au86fhOnAJ4coWKHj5MUpdYTOLLMp8qjnmDI5VQ7fRS9nJgQpYvL1Pm8EqrouTABQuVA3Ysq5kN+sUeaFjqWn0If2TWayTiYmrnoTNQ3vVvcKUWWwBWVxHm44GFMiF947gj5nQOJIohE+TWm0kaUWf+Nd8ESGWTxVDhw4r8S4wABb7ErTuQ7wIT6XC8XJkQpI1m9ddHzSpVBjZFzXunstVajkRm8RmossjTwJ4aJDqjx89OLOebvRPVnrvM50t+iJ0SliNoZrmtwIyYucBqJiQkiegk1ooKgppiEhhrF9WPAFzRNYOJMekmYEKsikFtzBo9Ag+ALmiYwcSb9DXpilNESLH5szLmwaQITZ9JLxkQDNSLgTL6waQITZ9I510jNkRwh9zrX/owZmsDEmXSuNQI0qE1mjcFFnevgqPFIjXLh0QQmzqRzxgTCCt6kIxr/qSUV3mYDJihTHAYuV9RvhoIqIxf4vhBoAhNn0jnXiJhnqc4CBLyVkABBrWoV0bNZwILaCgGFOqmlXDA0gYkz6RxrBJIXshZCR/DBlcMIEmYD+YJrv1JDsdpUfPbBn38XmsDEmXTumIA0GzABxttfVwaq1LEB41dSHfgzTOLIOjj+7jSBiTPpnDFRhYfAAVEqcjSQs1nin2uL4CIrgMV3GTBhg4u/jgyBCZG+EGgCE2fSudcIf8O50UD0ARBkRK/RHEtmWYzP6J4u0PTxuRzNjEa9/3A8jEXdXkxg4gKnc6sRCLhQhbCpG0+eJQbTXe2uw1uOL1++d9aCzQ/P3fDAvI0PL9k1c1vLmg7P8YFMN7CSKapT7dWhMIGJC5z4XANnp1rrNU8j/gSXeF/yNAsrQ8bNx1Yt2Tl3Z8fq1u59fIWZVincpoQ7TN7m447dW1pXrTr0zOq9z/b4PLlyhvcPy4kIdhgS3KpwfhlJlPZii9VQf8wJGkF8buWabIYxgHQxRy4B/8ZZ5fNwiyUd+tNdm46vWH+EVphxBi3usE32Glwhm+Kj0SbYKkGL3W9GDrbNyqG1+5dvPrp6KOPOsiCfZrWoXoYYF6U+LEJ+DVc/F1JPo/vnzO+Ytuqtg/lm+OmeeurJK668fObsp5CpmazBdt6CuZddcfmMmU+pvi8/tJDjcwc18vCPI7hG4gbGPNUxQZXY8ISozVI5nxO/FivJEvUATtr6DbPXPnJU2S0F9JLfaB3QucMKTaLjo9Hs7pDLFXQpXhkJsbgcLScRshyy7Viw+SHrQBMUDPwMuBU0HxVdDFcZgQnV4zg34pIQt053j90aIGrEf6lBsVpNJpOXXHbpFVdOf/0b3wA9cc2rr8WuZvKkRCqJg/P5ohpgo1SRqDOnxgzBNeJ3MvapNk/NmZgoF0hmUPdFxBRwIGKdzpblOxfrek4ADa6oBH3gDNK69WLmFHfAZeo1ugOe7nCXPMRn3qNpoW1QHja/rsW1d8mOpyx97fBAM7QQrrgSavBvxAROHNYHtbvnguG73OTBYIk9Mn/4pVSq3HHHXVOnXsIXVZ48efLUK6648q677sFPqiOM4xA/AUdwo9UyQS8gbw67FzhmTNBzYwI59BLjOYtZFlVOG57d+rTxpNYdlsyDOslv6UpAJdhofRefgy8X4O4KdfdEeh1ep62f5noFMmip0pBk9Rp6k5JloPXZbXNtvfoSK+bKiGiHr8uvQu/xS8cESNx97QFEmuOARnnUmbqxV1kykZ027VKa8hSY0EyZNmVqIhYX0+lxf4eYR9Fq+gweTaMuPqbp+TBRKtPaC0WW9ib7Fqx90tDX0RN3wVjIXnNXxGU+ZYJucPpc9iGHfdDlGnJ3B3qM3RZatzjYBc1hH1JgR+xBhxygAY2OgLmz69iiDTOH4ifhq0I8dB26HtUyF9hLsx2CaqKCxAVTksrkW1xO1Rb4X4R3VGX33HX3lEmTp2g0V19x+T133M6dG2I+ixpVRYkvusRPJwXDdUyd+cFUHJEoWfA4oOfEBK/EYpllcyyx7cjaY5Z9EK3+lJYvNEp2we6z90b7oB52NO3+yk++Pu3Vl73qza/++S03HjM186VEnJ6gG+4FtIUSsLsiTsuQ3hU2H9Bv3Xp4FUJZtbO1Sric+qH1nEktBSqNf28bxoR4BPqdS3SUfWHJeOLqq6YDE5dO0SSjIZqUiKmrZuDgQoW6+oP5F+A6JgCFGiBUJhKlvsT7v/CoHouKGhBETy7mPMixWHdA3nRohTRkACY8cacnTKtPQQfAZEBDrNq9+jVve+1Hr//3xeufmbti3vs+8f73fvx9hzsPOQZo/j3Fq5DX6XeYB2jUszti6omb1+xd4Bw0w4LUpAP6WzHBNQEtMcShIPLwOCRm8bMqQQiWj/UAw0+65567Lpk25a47b6/9DLNRTOXhUJcKtAphIUdrEuDG6HgwFYUtla4eL1hccZxjAs+PiijQkoKRzQeXN8sH4FHyNQStMAfkP3ppXlbLSesXf/Slj3/+E+1yBy0zOeQ+pD38tg+89Xd3/BqYgJ7AMU6/W/I6ZJ+ThsF7O5RA2wn7TpQJ84EaFBcXNV7fPXfC6UCDMBCkErj8xBORmaA9Kh1/+DKTlShfmjyWjvX88DufzUR7+JwCMRpHWkXokS6V0wUabkrIED1FUMbwvYkd2h+NCcob+6TOwT5cfbSjSgiv8mDSvWr3PCcA4acJcmx+C02u5lNcfpoap8l09FNf+vgj8x+WTtqcg47eUI+52/TtX3zjWz//uu0kvA1ajEoetLuDPbYhWl9ODhocoQ7F17pq14L+SC9eQVytTMENlL1as+dKAgHiXM4QkrAj3BDAiIjF/clzjNEEIynJ59nXY15na326Y/9DHfsfNBx+1HJsRrdhWbB7TzViZRU/K6fgdFAxqIX6XeEPbhWZuAaAR7kCEyoKxQ2MAzorJmiD2iiworG7aWfbCtmnc3JAyEEZzoQz4PAE4VrKUAa9oS7ltHwy0uf2upDQu7Qfu+EjP/rd9+TTFnnARp6m1+kKdAMT5GwCExE9YLGzdY3Rrc3VVEUjnyNBEkIkjSVAbmBAocxHh+K50qwaCg62WzqW6Y/OHpRXRbs2Frw7WOYISx1gkd0sujfVt7HfvEJuXuxoXZfut7BSguItaIpKsUzj6aholESlAm+1K41PTNQ03mhMYD/HCttbVpxwbZcCelfUbvFalBC1UNFMnIgzOSykfmt3wO0cVACOE5bjP/rt91/91let27uqJwSfQxaBiTAf8DTlkMURMTpCna2O/bubtmRZhptqutzf8BGEnyhKAdfT4h3OF1g1UcxYTdqFdtOK8Ol9fNJkPlUNzVbTxlnLYh2MZtk1srg+euqoqXmZtWN1OWll1X5uaKBvKrkMn4mAdywTF+LXIVDy2nrJ93/BUX1NFzxSDRNcL+IpMyy3fPdMw+n9zqhF9ktykFaCoOn1+HS9tNq9VwEyuvwurb3tXz/7Ic0lmmvfcvWTix/z+JzdcC0Hpa6QBy4FYhDAglaYCUlK2GL1dVhOt6zc+XSer1+Nq4Nqo99fKtXuXE3jaUjzQ0mkQkMdx/bf5+1bVUk0s5SWliNPalneQnOc0dJOVj43qsKSNlqnGplJHct0nnJv1LfOjniP8MWe4GcAEHA9qXCY1frVxicm8DRnYgKEfDjei7c9avUecsdt1iGLI+Tki1QTLNwhasNWBrkmGFQsPcYV25Yv27L0mz/7xqXXTf3jA3+gNYnCXbbTVuCDghQ+ty+tox2UrV69PWBYtOGpAovxiRMIFTUP86XWbP3OBaMYFFjJ9ncdMHXMSwV2sORRUgw5EyvYytFOmsaK5s6V+bovUm1VBystVl4ws3R7MX407tvVcXzmQNdhmveOlrLN8rZdKh9AwF9Rb7zqOItLj306AxP4yx8Mr1melRZufkgJHbWHTUCDncuVT+NLXzQADrgL8CKV0zaYD/gTHp9bPiXdfPdN09985abDG5VBO/REV8Dp8iJwtcuCaXl1qytknb/m0TwLF2mVWPIEa0z4eIk0XAjEg9c6NdTXau5YmA7tYukTePVpXrOosRjUsaIHWoHWjEzKtM06+WoM9hLNgWeqJmBZOljJyFItxWiTsXVpzNvJykOsGESxvAGD9xpS6w1cA4TABhJjnF4AE4u2PiQFDgMTsBpAA191yClmd6bEkKMr1A3T4PLDpXAhHHV6PduO7bzs9dNnLH3K7e+GtvD4HS6v5PBJ5E/4nErQTc6m17hw4+M5FijRwqS165KqP1dM4DTcKRgJvqG/2A1XS7Yj++9N+HezQmclBHdBZmGJ5kNNOqtxhSXs1YRUTYNt5RQAYUkFW1jFAUzQDMtpczWmK4d1LGlM+4437ZlRSiqkLViqXMryJR6p0hqqjleauPo4wIR4PBXsDU+FTPiYS7c9Yew/4IpK0BN4yx3wKzkypEHJHXJvPLTprR9629MbFiEQBSC6Az32fsfGg1smv3raE888BXwQVuB5eCWnX0YsCkDQ0kUB2dDXtnz7XOiJMmGCzw6Ci5dwTVz+nAjHIwzgLZhij/5mEXOadbN9/atYtqUShy9JS7OwiMLi7vipzs9/8u1P3PtTlnEAEKUkTcxeTulYwVIiT9NA02XGoCS4ZYkZoTb8vbvsulWseppV4gAcqqdQIfDyeqtV3XjCBB5p+Cn4I3LCq0BzPO9qXtMs73EEzFD4Vp/kCLudIQoiXAGPMuRokVs/9OkPfu0nX5X7bI7TSrfPY+uxfPsX3/rH9/+f3a17aEb4QVoTFy4FbAdNAx6igNYyZGx1Hn188b1Pr55ltLZUxMxiDbXZGIPUu3OO6tdZm4kHuxASfWgF84gAObHYYLvDsLCaPMTSfEnqDDBhJjHHpWBf+9eu/+fH7v2fErzLjKWSNVT4ylBVci2NfO1hM2cjLQJFENFXUx1Kx8L4qWPUblEqlyr08VRckROuipvBdjhrTJOGVyuvaPGU/Kmgz8u0tmxK7zqxs2WjOyzZQ5Iz6jQPWa1DNugMKAkw1MO8lXOnv276Z7/62WWbls1eMvv6b/zX5Ks1Tyx6FO4ncNAT6cYxPcFuu08xnNL3ZNy2gNEdU7ad2Lhg1cz//cNP3/Huf7zm2is/8+n/vPvOu/btOxAOj1iHSAi+vrCPgAWovjb1qVN9fBHlEnABOdHNF7MsN+A2bIz0bmOZVoiWz6RsqcCZSFsBi9Bp7ec/83/vv+NHlZwLsChC9gVoC301aaBjMjaarB9HJs3VqAFGhK/h0Bnr2+LRLWeFGFVM3SEWV+SYgLYTGeOARvY8wxPyZ+XKI5+txgKZ0yt3LJYGjI6wjFccwaTkNzkjkt1vlQYtfFFs98a9mz//7S9Ou/bSy6+bfsO3bth+ZHN30GH3WuxekzJk9gTdUj9fTjksW/0Ge8RsGdIt37l4KH4qVYjhQuFweN+e/Q/cd/8NN1x/1VXT3/Wud/34xz9euHCh0Wjk96QSAAGq9/WFwnC5XFdfffXqVStoD54IrA/JKs9ybsPxebQWSxbRJlxLiNZSjmNLCwxHBnRfvv7/PXb/r0rpLpbpyUcVlnWX4jZWcFYSEL+VHynhSL66By0nxtcGazEfm1eJ9DLyMcXcmeK26F6QwyPScUJn740IUSEcQKCYZYkN+1e1O09IQya831LQ7AhbbT7qbMdXHrMj4uj2dTv73a4BD0+QpYAD4QlJroC1O0IrzJBPGpDhlFj9OinQ2eY6uungKj7JL3+3UK2oVapcGkuoKNKyZct++ctfvv/977/88ss/+clP3nXXXVu3bvX7/UJh1M0HwAFMTL/8it/95rfYpQLwtuaiwdNHeizLWVrPUgZaVhoupLp0vbUas4T6O77wmX++//ZfHNy55IZPvufaSzQ3fOIduzfMSA51AAp0GF+umALUlJNvEaG0s6y2x7gq1NOBcKZYotnL6aaH71y0UowTei5MsFIFmCjipXMOyIBFV1RRgmaBBigJ26DRE3ba+umjBrRFfSF9sHzagvjTE3IoQ/TBjNbNjXZDx9gCeiWkd0dMaw8scQ5YUTJdpah+QSBxUl1jRxU5ZJ/JZA4fPvzwww9/+ctfvvbaa9/znvd873vfmzNnTnt7u9AWX/nKVyZrJl33mtde/1+fS6VSUBUIDRyG5cn+HbRuIOLMmJ4ljLScE82ubatEzYFTbV+5/v0f//A/fvJf3zbvsb8c2PrsX377rSs0mmXzbi1EOXSACYpUbSzjJkykpTJ8z2R78uR+j2E7Y5FypYYJsIoJbNTbHgd0dkyA8KTZUo5/Nc5vP7Z5f+d2ydvpiVrtPsk2YO2OdjkDCqIJBJngLvgWvGXT7bP3xXrMfSboBupq5bPbQy6bX+azglugJPbpN/H+E6myeLF4xRbzVKEARDoHf4LGGQtlMMqfgLF49tlnb7755g9/+MNTpkz52Mc+dsMNN1x5xVWTNJOnX37lm970Jr3RAAfT2javFNxDq3lRe5SZxeAoGGm9csAibg30tX7pc//8tjdMPnFobT7iYem+Qsz56N0/++SHruuR9vIlwWhudgIHOGWjdBzA0pYDzcbjS1hlgObhJu8Fd9WIifFD9W/lgriIOCE7X6bJGPOs4E31P71ulrHvhOIzkmcQ9FgHqb0BLkVXxEWLGnptrgA1cTpoVSq7O9gleV2OYLfscythpzVAywXQIqe9TQs2zPCnT5Wor0OFzD+/IGIFiL9C4QN9cBI3IDQB3EmRqOeIBPJbWlre+ta3XjrtsqmTp03RUC+6KZdNevDh37cdeIjF9iPiUE0A3n7oibSRN10r0X7dV/77vTf96gvZmJKLSizrKSUVY+vat/2DZtvqh1naSZ85wBkzrQWESAT+BC3moGPhVu2heRSRsnSZvobVMFGDBd+qtTemqRETeB7xqETIBlN/BFbJsKRr0PbMplmW0x3UBzPSZfMSJuxBRfLZ6PNHkNZAlnzUARPGQkbwGeqyDjokv93itzpishyyGPu1y3Ys4v0x00XeooAwgsL8WjXiUtSmSb1dRsBCJOrpuj9x9913v+pVr+KLe0++VHPZta96tWaK5sc//WznwYdZ8iCt7YYXPSITLCDglIG+ayTtgd62L33uPY8/8Mt8UoZhrGbs2YipS9r1qQ//w+P3/KwYg7Gwl2Bxsohg2xGFimCElixPdGoPz2HsZLWa5N4Dx4S4/4sFE3gHeIDHs/LQ9srJziVb5uh7Wy1DehrKwdeToS+l1DHCTo1aQVoiFwy4UGtEQJaDNpNP50zILe6mpTue0bu0cC0BCF6n3EcTrBJu4IXrVJiSO+64Ax4oCID48Af/5f47HjjR1JIpJRjzmo49weKkJ6owHGH+LSNlBCb4OsQybMdXb/h/D971E2ACgCgkzJW0Akx89L3XzH/899WUo5KUKQBpxAS1YulY2tB2YCYwUS7HLypMNEiFSwubEn0QLODlTpUDjgHD/PVPHrTudNBKMrQIOu98JVl9VkfEIRYhon43IYmDhnxSBJ+HbXvnrJkpnbTANREjSItwXtVr8ZqtX/S5CVCAvRBKAluLxfL973+/ubm5VCirBZCAYIB82sOPVkO76bNFzXZAxrRcYEqqRqxDXU1f+/x7b/ndV7IxOYtoM+uC7eg4tvItr9Uc2DoLeqIE7ZKR+dIenLM2+mCW0OWHjlpOPMtYP2wH9yj5nYtLjzdMDJN4vtrri1QtWa7Sgkd8lEeiP+na0bZuzf7FLc6DrpAVgpcDJvgKkt8IBPC1h6yeiATQmPvbtN3H1h5cunrvs4H8EJ81HjLjRRPhWqhWmAmyF5RRu+4LUt18ACjlIk2CghORyc+OOQ3PZIe20yfvpEQ+ZlTPMYGAAq+7JTrQ8YVPv/Oj73ttt3SoGHVXEt2FiOuRO352/Uff3G8/yFcLA1CUUhSeBH0pZRn+sTTeEe/d69Stp0/n3BkaxgS/6ou78bFBZ2uzEsytOLUT0R6EQE11RZbJMFqSyuk1bTy4bOmO+dtb1zbb9xpPNdNyqCGD7NPpe1uOWffuOLFhw4Flq3cvdg5Z8iwhTEaxXEJxfB4b1CXF9CiTx5+o3+HrPhcJr0J4GyJNuTgFJdGc5OUStSSl/L27+ixLGJxKMhYGRguAWUoJBCDwJ2yhU61fvf49//rP137mI2/duOTx/Zue/vm3P/OqKZptKx7Oh4y8tcpKoUdGYTAuCWs5ZiI7kmwfsG3wuo4gFq1UBSY4D2MCqXFCwIR4PE5CKnVWf4IzqPp3JFBWzFTiOZaEzhhK9XS6ju1uWbdyz/x56x5ZsOGJZzfPXrVr0e6mLXpnuy/ZX2DpLEsgyoD1IcGLYnmR/D81/6m+BS+dX/TspCKgRhyrIsXHbIlT6X8WYafx+ExaUBQ+RNJQb7PijdaSv/vo16//p0fu+J+W/ctv+MS7pms03/nvD3QeXlmK2KAkoCGAiUoUCQfsTiVu459L9CzWbGteWI25aUkYwjGvGVwOf+mi9Cz4Mz7oOTHRuHCBKgCeny/CISjxL2RZzqkMC2dZiC8yE8mzeJ4l+bIiUAxiNZEib4oo5bJpclxxKiqQMIHCEI0SD1ex4OcgoSHqUUmN6Fz1PPwvZxk77dQvj5/cy+BSZM3Q/Fyu9AmDIpEMvEg7fMlS3F5JOrGtxpVqQmJ5J9mLjExrEsNk0GKkPCjNIRLpjHRvdncuY4WAaNsWXQaJ6A9uQCB7nBAwIQTPYSGqlj9nuZSrGXv1/aauKjiK3ssyDDnyitVKoVrk7VqACG2RBgMEtXEyVHf0yYpKqFRyOe6kqE4FNnj3wXyPwwLMd86kYcUwAhaVUjFbIXeHyuFXKbJqMN7f3GteVggcYBkLlD9hIgt/wgwxUwNl2k4qATYC+fQ5w8Ry1krMQIvPAgrARJr7ECk9Yg2xiJxHtzA7dIQV46xcgfmq3bP4g9obb9/Azo4JNb9Kch/OB3NYENf+4jjUkdiKykIEABYWR+1oCUjR8BlklwkcwAw/sn4KJwGL56MzLAh2xYtL6Kt/K4eqsLTOj5zmniZJnX/7Bg4oElEQVrO0DEBUYVly5mK0nT6Uw8QADQg7SZ1AVcD5ACZ0pWRn8OQeu3YxK7p4H3/4sg3fRdWK4u0444VG2o4RJPKf69dhQu008nPS2Q4aufcSCPdG8qBC8F+9WZgPfyFtOH7w0XTwMDR/JdrG8nLZh5e+iyXgKMBpADJk+oyOsCJpIHAADdReCfTwbRywAEoMcV/TsX2zymkbRRzAhAjGanfOrR7Q8AJVNLYImBjTBO1AFkoVkcAENTwnGBuIBVu1TXOS/v3UzACpw3MMm1nEzL+Ay9SilZWoeYq0AqBgzgc7CBBQKrFOOj7eUY60mztWBIZaGRuibrpAW7lEoW8NEJwnMHHB0mhYpFjhdGigSXdiXtp/gKVaWQ7moBMeBjVUk7tgqMa0cBeKoVbKhCYoQIVQUwTLaFmuLeXdqT/+1ED3Qd4mUVuQmLpp0IUmMDFGqAEW1QIfGsq8kaGWpv0zBrs20/iO9Alanz4BEOjUDhYJHSvJAEc5oiWIADQpLUu3n7Kv0R9/MjpwgLFBclDKCEHztCyxuMRZMDF+YDEOMFGTR01aNQYu8FonWSVUSDpsutWSYVHg1HpWbGaZ4yzTRh9Ok5Zy2MDbsvSkGwod1dTxyMAua9uzDt36asqFEIZVYYay5GsjtMJ1AIHhsQcjMSFyxz6ND0yMJCGbSpVHOkggqEYkMhjxNynmpR1NM7qUlVAAsdNH6INnylYKdVZiusipfd2W1aaWheqADhYk3VDJVvJJskSiTB6QU+Sk7hEghm2HyB37NPYxoUoCUkFQCnsBRoI+xCOfWpiQIFjgdQ+zqjcXd3p7WjyWHbrmZ7RH5rYfntl+cJb2yEKXflugt6MQ6WWVBK15X4SCSVPvEaCAFuZUL4SoV1yQMy6KHyYwcaGRKgkIBmiAFLkgaVd02eXyomOgMyDgPPUGqaZYCW7jIKv2Taf5MU+yKtJh3iRFXiS1rXGQValJnhO/CvSOuFqNBSY4IGrHjAMa+5gQIqc/gALBojY5CRQ7/0X8AYsjhZ9Bg0rSrJK6TKPBllQCEFMp0vccavUSRoFa5evlnMHIpyM5cxI/jH0aN3oCBNngraVmZs7D4lSPGcU4vMxoDXuoE4owOVMQSy4C0MDb6UnwtXLq22EeBgRIFDv2aexjAiSEMSwSyElgAnzGj6D6foVN0Uylw2kXfwhS4twyaQza57IX8FK3PBs8EhAgUebYp3GHCVUq6ns88hfKGSHIKtMAE+LnGiA4JsgVEcx/FPBS+eyAAKnljHkaT7aDk9gdzoTk6sImWdawojKfg30YDZxJ2FQAIs/hQkbxeKZx5k9waYmc4fy6yOkADoXhlx6YEAl+GIFGnEPn1sqr0YidM0gc/fzHjA0aF7aDSMijLtdaq+IwMgSJw1QWemL4KHGkuo8DEJ7w6LNO6k9nMBE/vhFVY5bGASZUAXMWmKghY7TYQHWB0fHIHo0JNSUCEAS3/ANHneoHjGKi+tXrlxirNG70hCCSdI1fFD33Oj/nVg6ncz3+AqVxholzpom1n86kCUxMYGI0TWBiAhOjaQITE5gYTROYmMDEaJrAxAQmRtMEJiYwMZou0hqpz4c0efJkka6PVRcJsW0cfHbx0EWHCTGSrD66UOgJGurIxZ/P57EV6YsTEKCLDhOQdOMAw0mTJtVlL3RDNpsVu6BRQxEvEroYbQdAABImo46JRmOBrdidwMTFQrNmzbr00kvnzZsHWAATyJkxY8ZVV1315JNP1pEBqvscFxtddJiApDOZDFzLK6+88rrrrpsyZco111xz9dVXw7HI5XL4tT6Z9wQmLiKCRbjnnnugIYADEPABZNx5553qz5yAD2zPmP/koqBxgAloe8FnJ+FA1rfCRYhGo5dffjnQIGBxxRVXpNNpgQCYDxgOJEYC4sxLvMB1xy6NdUxAJNDwgrnM1dG91GFGJErccQQQAAYcxDOph9Vf77ht6tSp0BDTplxyx1/vVI/mVMEptcPUDN57Tz1EPQyFIbNh2GD9lzFO4xYTYJosR3CZhKxmVisFWiG0EotF4FfCfkydPC2bzuG3SglhKg7hh3GmHbGvYoK6ZtVyOSYah5LWfxnjNG4wMUxCNhWa95+vFYtDIEyaL4lm6EImZfFJnf/6l9uuuvyKu2+/g2sELlUci4iDFrCnI8BqcRwBvDdvDRb0B+WgdN7Jr5439mnc+BPDJGRTFoOJIWhIk+QI3UBrlNO2FKGVvUqhQrL/e1//j2ysV12vnA5I0wRFhABeJs4bLh6AELDgshd/KCWOwDUIMfzIsU1jHxN12dB7rgpGyIYaqpEEKCo5Vo4y5mfVvmrCGvDs7zGvs2sXtx98uO3A/R1HH9A3PeYyLh5wby2lrDQrTTXFCjkxpSfpClXQKIvUjKoqBBLUFHSPuoJ+/eixS+MIE7RRX2USjMgs56r5IM0ywAaCp1ud+g1yy6JTlhURz8a8bydLHGD5gyyzrxzdnhraNOBcaWqeb21dmRgy0+xVZegMviKuKvvh8mkP/0U+7QATWTF2eQITFwCpUgGp77FwL8piau9qGuohn+h0WlbZ2lYHu4+wSAct41Cw0jRFsQ6W1lfCLbRkeVqfDzSxpDYxdFR/4mm7cRUtMFntoXlqaqM8anqIVJF6XRUuE3rigiIhG5IESYsDggsGGUW4FMHQQFPb4cdOKqtZwVGJmGgOq5ypHGnnk2baWMxC02XGbbS6R8lViXbQguZVY6+yov3oQ+HB/Xw+q9RIWAjZN2KCLibgQvljnMY8JmieVCIRViDs5HqiwpcAqKRDA8d0LU8lhvazjIHmY0+ZaQ0HmsmKT5JKc+CZaP0fgEPMjInMeCetTZ3Rxk7vMp9YMNR7gDyMUqomfmyENsI+3/C/IPzIfx/zNPb1BCShRpwl+oBFkqmwUg6ACPYbO47PLiWPVhPtfE47Ay1ZDkDkDNWkrhztpAmUaUJMGzEtHmbia4ABIkCPkcW1Bf8xc+vCqLeFVWPVbLoGi2JBjU34rprJr0x/xzyNeUxwoZQrVQoSaDZTwgaysvmkrf34nPDpfeQ95CBsLV9X0liJcQ0hlowDJ6wMBgUcl2gbNrGohcGORHEKNIc+5d1zbN9jpXgXyqSJayi6gZIQjIvVsMBbNyYwcUEQnD0AgRsO4UNUWQF5Mcmw7KR7NS07mzSWI0ADXn0+G2baTEu8xI00dy5frYPm4c7YWVKmNWBoQm4rwQKZgEW0nRU6+p3rHLpNrBggk1QVE57VmdMEJi4cggyKYk6ZSm0+ukIWViM6aLR1LGb51nL8BC3XEKUZ+eE9VOJalrMUk0ZwIWGoZq0sa81FO0sxPa3dkrbQ7Ih8YWpavThppHlVk80s0650rIic7uQxCFcPJHwAsM4TmLhgCDLgkwyRQ0E7RWgLxAh+c+uaWP8BAkReTxOwZxBZwEzQygzFuKkCwRedxaS5kDBVsxItR1tUqhlLOWUqJgzllKGaMZWS+iLMTUbPMp0s0hw5ucdl2MhKgxTcivkQiYAGoS0IFshTs8c4jQNMkLkgYeB/KcNYuJSwGJufpsU48K6n+BzKSS13J2EpHCztoIXI43IlytegTsn5EH7ii7jQHP21xT4yMDHI1zHYnZKtHD6qb5pXTtmpCRwAwFVV+UNt5PmWfJkJTFwQJGCBLXWbq0I8QV/37j7baoQSVTgE5DQYqmmoCh2BIOlmcTtLONIDnesW3P6p9197zSTNR99z+Yx7fxLuPVaN0epwcDVo6YYMnUhzLifNVX8zK+hO2df1e/ZQAzlNmcgvSVgEFHBRAQtuRMY+jXlMCNkUKmUYES6YsEP/bPL0Vj7DvrWSshUz5mKuvZLRsriNxZwsYc/4DH+88fNvuFrzxL0/b9q7eP5jN334/07/4Zc/4O9G1Aq3Qy6RT6pnBTMtKhbX8YnZ28OndrlMK/kEq1EKd7lzCzjyOTSzHBbCzxjzNPYxwV9ZeJolrsAZi9ha55X8O6jpCZhIyoWMtZDTqpiIAhOuLSsffvNrNPu3zammPZWUuxx3Htv99H/9+xub9y0sRoy0UnlBhpKoRGk5MTJAaSPAkQseN59YwFgPqwT5rKuszDFRqmOCo3McwGKcYAIva1nV3jHd0cdpHWKBCaEnsvoKvAquJ4oh+22//+Z3v/wvCZ+pnHIW4lI14yyn5GKc3E+WsyP6gC9CwWrKSg3e0BxJvuRHSt9+8CnCRDWkYoKbLWCRmw/KmcDEhUGQQaWGCXLyYm0HHmTZQwITcB7LaXMxY+Rr2AMT9pxfuunnX/rDjV9KBSylpKOSVgAIlrcTZ62FSCctPBnnTRcZO30NSSj8mwicUFPrgZms2k2dLfgaabiYuC7/zMENx9gHBGg86IkqLRVHa1JyqSS0hx9iqb2EiRgtJFxJm8uECVgBKxzMpNciMAE9UYgrLOsoJaVs1EBKIitTAJJ3EJjAiDIAiKSTRZCWoDk6Di9gVfgTCXIzOQD4SpnABPcuJzBxoRDvRcd1OBdJJW5rm1kKbFYxARykzFASpCeojVLOBC1/vekbP/z6vwETxYQdhqOSdgz1HP369e9at+R2iksLrnLEVAjq6Xhq2aSvpixmzAfbjE3L6HtYJc07b+Fq9I2UY4KDYQITFwaRVAQmyG4QR3ukpbHelSymZ1GxbiwwAW+AYyIB59G+ddUDb3+D5sju+ZW0i2W6chF53ZL73/l6Tfvh5azQkwsaqK2iCCXBP3nQWdi2B3v3ukzbqHtOJSe6YXJMqM0S4wIMKo0DTNC6yPhD4zY4Jga7Ng/Zl3E9wU0AJIrAso6JlC3ubb3lt9f/n+s0D9/1k4Pb5z9x36/edK3mrj98txRzVOMOWpM4ZaMmCloFXy8WEGTZ1h5p7aDnOCvFqOGUYCBgoWoH8LihMY8JGA24mKK5mY/nScBV7Dw8g/pQpSzVEEQLE2BEJnmOEDZCzawc7m9es/j2j73/1dM1mus/9rZVC+9J+y0s7a7EZGoIT5iK4Q5Wkvg6g50s2VxNH9admFNN9bJyhlX4x7YRPgTdBu2OCxr7/gR/X/HCckzAjqRZ8ZTbuCnVf5BF2lhagbGAN0AyTlvpK1dagjuJyJOWJs+4ygmlGFNKcXs54WA5D5QEX4jWxtLmaqKzGG6uxptZ6ljMu9WkXcTKAa4kVDwQqZgAIMjrHB809jGhvq5ABRQGBJNnLBX3muWOpSzeSjgIm2iRWfqiwdcfRwKaIC1X4ha+ajnETwYFWMmHdPSxIwNzY6BuFgkDK+LgFpY+JhkWRALH+McO0ki1zl0jMKEmxz6NC0yQkoBIBBeoQakYVAxrh1xbaEVhGIsIJA1DoK0kOmE7qgkrtWHTRy+oCvruVYxq1RWqsxaCDmxNxkKYgFOSaR/s2qgYl1OrNpQQrsWvqJKaABYnMHHhEBdFDRDkW3CYpEtpV/Pepwq+ZnISYwbqZJXRU/8J6AlyPGkVSUojuIBBKUj04ZQ6c+uow2bWDDTwVYoNob49+hOL8/AzqiGuhIZXiuOEa0FJgFV/cxzQGMcEhACh0ItbhvngfSnKZWo8yMP2J32dusNzC77D9MUcksaWQgkzGRS4n3He2ypBH8fLcQMciHK0swzPNAM90SG66aa9h2XtCl9PE6vGWBFKgoaTAnRqiEN3IKwV2ZJazpinsY+JGmPDX9hKkYTElwUsDMVOHbadmFUKHmCJpkKwheWgG/iS1NhS7wr6OE5+KDRHWqIuFzAZiDWSbSzfnuzfYW6eO+TZS6sRI7BBtFHhmON2gl+TFBJnakIVNzIOaBzoCS4aLhJIC5go0aC+Iu87mWKl3uTQ0dZ9j/Y7N7CiAk3A0vThm7bUsmmuxEzU9TKNSFXPMkaW0lLvrJyh37Gp7cCM+GATX4Y0ReqAN50DEwCE0BNcQXFMYIczzxzzNE78iXoSrzPHCH9xCxm+jH0wE7ZK+vU23erA6b0sc4Klj7MUQhIoDHMFKIFfmWhlqSZWbK1mjg32brRqlzpMW1N++BAxWrNUDPjhVxF/eVKQcCbGFY0nTBAaONcy8Kdc4OPEI4x5w/42q26F+cTCbvOq2Kn9Ge9x8iLTxkKoqRxtDvZt81iX6Vvmy8bVER9fr7yaqhZwLhB2cdG4wIRKIzChjgOijAItQV720wLUbLAc6/F1d3SZdhuOL2k58KT26KyOI7N0xxY5DNt8PdpScoCVE6yapFNYnKuZ8aYGXpDGPiaGCfIvceYKAp6FGh4AGnAHuLaoRlkxw8pZVgqx6gBjvVdMRg30sko/K0doeepyhTDA/cia/ziBiTFHAgJEIzBBefwPrUqfh6qAjLNkR8g5gKcIYaeqef8ltL4oLAt0A0IVPrNAzYFEgRRnXHw0LjGhmo9ikRURgogdKAvqWFusUhY8UIifpjKaotHAF6U0YYV7pjife6rivIuQxhUmRBQgMKEKFVv6bFo7jEQOPVCqVkrlEvWfmzJpMpI4vIIYk7QC+SBU1gQmxjANi06Ic1hP4A/cA/qRv/rkV1CyVKYBx7QDxGg0k+lMPqVyrQScR2NF6I9a8sVF4w8TQpQkzedg/KTiBqQZsaaLWgIvRByD9EVH4wkTgkiQNa7joJEh7EZMkJ6okQAEGaAaT2BiLJIQ9QgSoiVuwIdgiBkBCJgT2Y5L6UC1EKQa0DC62IuFxiUmQAITQiWM4JrI1RM1mmnDmKByxIkcEGrORUdjHxPPRzUBN3Jd2Jwn1W1HPfOip3GACSHs5yHxa+2YuuxJ/JVJ5GPynxrz6aeLl8Y6JiDOmvkHjZJrnRtpOBOnVDTUjlk7fYI4XayY4IAAc0yI9ASpNNYxAfqbJDqyfWKCiC72GpnAxJk0gYkJTIymCUxMYGI0TWBiAhOjaQITE5gYTROYmMDEaJrAxAQmRtMEJiYwMZomMDGBidE0gYkJTIymCUxMYGI0TWBiAhOjaQITE5gYTROYmMDEaBrPNVLvPkH9JRpI7Ip8zSSNSIjMCQKNfUzURUpSpb4U9V7a5QauZ+KoIg3nEROYVDVTp+Rpdk3arYjB6FQOT53JnM7IAIk+HH9TT44Lh8YhJsB1QPDB5cOYwE+lSrlYLuHYcrUCcEBPcEBQPjILpWK1WqVRYPUycVI9zam+V8sA8evSQDPwmKfxYjsaBcVlhY14+8E8Y/jXubPnXDrtkgXz5lcrpUsvmVos5ucvmH3FFZc99dSTQrpi4GipmKdE7aw6jdwTJNAwgYkLg4bFI2RVk9jIvYadCktFk9M0U6+6/IrXvea1UzSa17/uussvmzpJo8llk4V8Op+jeUiqrMjXsT2LjIfLHKYJTFxY9BySqINgJAtB33fn/VM1Uy6ZNO3SKYSGaVMn33HHX/GDWM+4XMmLAUIlmJeGs0fQWbLGCY0TTAgBjbAUAiqCa8KjvxVWyrN0MnfZJdMnaaZO1kBTTL7ssstSqRQ5EzSinKbaFEvZ8q1aZq2MGp0la5zQGMcECUbFBCQHL4BecyEsgQbkikTtADH7AE648677NJOmaTRTr5j+qltu+yt+LVRobgowoFFkLFMkt0LkgIcBQBcdyQ3Z44DGCSaQhNhGYAL/z8CEYCHpYDR22ZVXaSZNnnLpZdFkCpnAAfLFfKgADbYFRCG1s6hMQUg1co1G7o1hGj/+BOQhhDcsP/wRsqUtstVJaspVWgamzEp/uPXmaVdO+/Odfy7SrGYUY9CJdDwvBRjhWcgAI3blJaCMhkGnNTojYwzTOPIxR4oFf2lhe6IKtVBUS6yY5xOeZVkxyUop2iYjP/vGl1kkQD/lcjQBVj5P87hDaYDzwAmwxAtHgRwwlCjDxtRgIXIaeBzQ2MYEZACxC8kP70CI/OXOlnIkVYi3nCepFyD4FDvZ7dqx6ejsJzff8ZdlN/5q8Y9+svYXv9ly0y1tT8w+uXUnO3maJRJ0ZD5b8ysatILg8U5jHhPCOSCC9Icxgf8wGAgm+WqwhSzLJP36zu2PPrz8T79vnfvkqc3rckcOspZW1tLO2nXVvYciG7aYZs9b+uvf7nniyQFtK8snSaNU8xSIoCRhg8BIjHcaX3qCkMABAUYgSTMcwhZkU13OnbOe2nzvPV1bNpWt+pJVWzZ3lAxtVbOWWXXM2FE1dhaAA8lcMevd2zbvfOyhnTMeYR4nS8RouQ7yPaBxVIVRoZWmRFJllUbsjGEaB/7EmQTh8TUbSjABafexw/Nv+q1p5bKq0cDMhrJJlzV25M2dGZM2bWovOUwx/YmcpMtLhpShvSwZSxZ90aC1LH928Y2/jLS1s3SW4ldivg4dxwQuILA4gYkLjyADoRu4hBCIglUfoliAw9h16ODq2/7q27+v0tHOOjuYQV/Q65nDWTBbcmCrOWnSFx3WhEmbsRlyNmPepM/oOpjZxExG3+7dy/94S1dLezkSJ0xAYZTJglDoUdNPwzAQd6LujG0a+5gQwhGBAjFiDK4ksrmhppblf7o12dJeau8kMRs6K4bOqsWSN1oKJmvObE2bTHlZAixykiVrMwMiKVNn2WYuGnRcqZijx08885c7Tmn1rFCgqAQKgqsJAYU6E+GPwIS6P4ZpXOgJwIEDI13Bu1ypltLkVCqupb/4zeCBwxmdkUlK0WSCRSiadTmLoWAz5Q2GkplAkDToipI1YzLkrbQbM+kyVlPBaAR0sC2bTP7dBxb96jfFbg8rZBC/qJGIuDTfDsNApNSdMUzjQE9UwdDmCByBDdpUsiwdP/Hok65Fy0oGS96qZE1kKaAAchZdxtKZNGqZbE12tGYtpqJsS2o7KpItZdClTYaUzZRVrEWLGYjJm4wlo55pdc6ly3c9/ihcE3isZVJGIhJRETCMhOHU2KaxjwkKMagXDMQEVVEpU6Ax1Nay6467WYehYpVzVlvGaM4YTXmrMW/VFxVL3maB1JmCn8wpo75gtWVNZmxzVmveIaXMhoROC0BAnZQs0DFSsb19+7339re1AG18rUrubApM8I1wLPjNqJljmsYFJujjJSUpWCwXWDa97ZGH+rdtY2Zb3mBKGowFqwSpp42d8CLTFmPCqAMUgAyIP2uzpoxGOBYZszlhNMBwwLEo2KBdzFmzPmvoRJxS0uu8e/ZtfvBBlk2oLd64FDDBYYHrqm0kAhDgMU5jHBNEXEXUZVEust6eNX/+c8WgLxv0JastZTRBB5RtVsgYmIA7mbJZsoqUsED81pTJnJXltM2WtJpLDjuQkTQYoD+ILYYSIGLuLJj0Va1+w2135E72QgnxVR14cNOACXJpCBC8DWOM05jHhOgnB1SUSvz1LRR6d+1tmzWrbOwsWoxQD7AdRQu5CBmTLi+ZlO3bPv2Pb5r9x5tjNktGkgCImNlk3LzpI6999e7ZM9MGY9XugC5BMAIMwdxkJX3Rqmc6fducBe4D+1mBVvqgtV4g+5r5UDGhwmTM05jHBF+Kp8KblPhyDJn00cef8m3eVrLo85IBYUXWYoG2yBr0cDCzVkOwve2v3/7Wz6//XG/LiaRNilusUat5+f33Xv/udzp27y7ayMrAuBTtEvyJpL4DmIBbymzWk5u27n/iKZZFtFvE1bhWaMSEAMQEJi4AqlYRdVCXa75TYbncjlvvzO0/WLDoElZtQYHtMEJP5IyGqsOaNLYXFfumJ5588+RJx9asDpvMKUn26rQ/v/6z9/70J7Ag5IrCmtjMSasRgCjJpowN0akWAUjiePO6P97GUvRxtURehbgibWBIwDwUmcDEBUDU1kzxKP+WjWQmu+Knv2bNrcBEUtLlZFNBAiBMQk/kbPqUydx7vOkLH3j/w7/9TUySImZL28YNH3ztaw4+uzhqMHArY4XPEYd3qVjFKXFDS1Eyl02m5T//LYvTJ1b+CUTgQRABAuaLw2LM03jABGdqXyQ9kc2tguQ6DcBETOpMW/VpkwGYgD9RsBlgO3I2KWoyP/K7337pQx882dIStlgW3P7XL33g/V3HjuTt9oLZQixZEZLAdmRMWsAiL+tRDkpY/MNfsJjQE+S81JQT/pOGACa45znmaVzYDo4JLiFgIrvql79jbR3ARErWwwoglICYS1aEl8a0WZexWOFDNK1a9YHXvHr30wv7tR3f/Ni/zbvtzwnZllOUrMEIAOXhfpqNOJ5cEMQdiiFjo0aLJT//DYvlgIkCKwATFH+ChjFBFkTkjWkaD5igrRAN0vnc5j/9NXvoMH35VAx52YpAFOagYEZUCfNhSFPwaffr9D/73H/d/qMfHli29H2vvaZ90/qUZEsaTfAnAKCs2chZD5ORM2kBC3JOW5rX//l2liBMQPYjMMFhITSWyBvTNOYxIURSKtMYUMJHMX9i9ryBzZsIEzZqrs5BSVgkeI4Zk6EoWRGGwHyEDfql9979hQ++95YffOdnN/xXwKhP2SxJ+BM2qWyT8gZD3kSYyNmMMB+IRcsmQ/f2nbufnEFxRz7HVcJITFBDxQQmLgSqy4O3FZFIirnunbtaZ86o2IzUJcKoTxuMZassQo8CFzy1dkuSYevmj/yfN16j0Tx9zx0xmyVrs5KV4UqlZDSWLWRrMhbAQo+wllmkYzNmKfv2UPuEiH5H6wkQWRCRGtM09jFR6y6rYqKUK9vt2+78a0rbAqcSIIA5gJ4QmMhZTGVZSZtM4KjJ8Ptvfe1T73mH/ehBar+y0ncy+npuohCjYjaT/2HV52RDwdTJTmi3/+WuwuDpaiFDmBCjkOv3oNIEJi4QqgEiXyZZUWe7THrHg/f17tqa0bVVJBtkzKMJ7k/YjCmDriBJQEDYbPjDd74B2+E1dKZlCUoChgMHl8xWAoTBkLWY4FpCVVTMRt/mHXvue4gVqeMudd/isxWoYJjAxAVI0BS8JZHExapFloxHdZ07H3ywYjSUDSTRvIlaqdNWeBgUjiLOTCo27ZYNH3/zGw8vXZpS7AkoCas1pzcyq8TMllSnFuFo0qTHtmI0VfTm3fc/FGprZ1koiSJ976jLXkBjGBbjgcYVJvKVQrVSoPc4Ed/12OPW5SuYycJMxqJBBz8xbmxLy3qEo7tnz3jkNzd++h1vvemLXxg80RoxmrJ2hZrAzeaK3ljo1DGXg9onJGsKaaPVs2HrtkcepT7+NAAkWyryLhSC6pjgsBgf2Bj7mIA7wT8+wLqX4PrRwHBS76Wernm/+l/frr3MaGYGA7RF1WWLmzsTFsOGRx5656VTfvCJj0nbt1ecrrjJFLeYExZTxS7nOjurFlOqs71gplOYxXpqz76nfnkjO3WaBn2Ui9ViDpcULadE+AN4YDs+4MBp7PuY3IhTu7balxqWvkR97woZX0f7mlv+Ej98jBnMJV1nUttWslvzDiUt24JGfd7pSOgNcCqzipSWrBnZEte3l62mqkQ9sorARGdn5OixDffd7z5yhGUyrFQkw0F/qL3yLJhQs8Y8jXk9UR+mVyoUee9Z0UhQwj6cTdf+A+tuvyt0+AgsCNwLSDqp0+clOWeXYyZDSZITOm3aQp0qyNUw6/NGXdGgLZjIC4keOrT+ttvkfftYLk9IqJYq1YJorcpXy8NBxwQmLjRSh3GSbFSZ8D8ACodFId99/PjjP/2pdeVK+I/5dm3FZEUYQlGGbKNeM7KlIBtTpo6ixchkG3XD0euYbNUvXzbzf/5n4PgxlkpS5AnFw9UDvJXhoesgui7fqvvjgcaBjwntUFKRwYn6ZuI/afk8F2K+cKrnwNw5u+67//TmbUxnYiZryajPGjsKiiGmP5ExdxTNnZXODoa4o1Pfu2Hztvse2DlzBhs4yftqw4cADOCp0LdQqAvR+W4YE3WuZ45xGg+Y4EzygBmpKQsiblSgLXLUYS6T8J84se+hhzf96Rb9nNmD27Ymjh0oaZuYTcd0Lenjhwa3bDLMmbf+D7fsffRxX1sbS6eoNaJCPWgIZoAddvisiQCEajhAuILg4b9jnsa+j0nN2oQJIa3hN1gl/MSHACFAhf7PpViXcnLHxvbHH9n/h9/t+OmPtv/gezv/50cHbvp92+OP9ezcVun20IjyAp93AFwuicIFCakPl9+w35Ac48TY/wfaXSLvUFZvQwAAAABJRU5ErkJggg==)"
      ],
      "metadata": {
        "id": "3pGhDsqznm18"
      }
    },
    {
      "cell_type": "markdown",
      "source": [
        "We calculate $a$ based on the inputs $x$ and the constant $2$, $b$ is $a$ squared, and so on. The visualization is an abstraction of the dependencies between inputs and outputs of the operations we have applied.\n",
        "Each node of the computation graph has automatically defined a function for calculating the gradients with respect to its inputs, `grad_fn`. You can see this when we printed the output tensor $y$. This is why the computation graph is usually visualized in the reverse direction (arrows point from the result to the inputs). We can perform backpropagation on the computation graph by calling the function `backward()` on the last output, which effectively calculates the gradients for each tensor that has the property `requires_grad=True`:"
      ],
      "metadata": {
        "id": "m8QTuxKKnwDd"
      }
    },
    {
      "cell_type": "code",
      "execution_count": null,
      "metadata": {
        "id": "MGtGCGmDUrYl"
      },
      "outputs": [],
      "source": [
        "y.backward()"
      ]
    },
    {
      "cell_type": "code",
      "source": [
        "x.grad"
      ],
      "metadata": {
        "colab": {
          "base_uri": "https://localhost:8080/"
        },
        "id": "ZLAnoO0WlpWN",
        "outputId": "3379b2da-f685-4fd6-93b0-4a9135b72b88"
      },
      "execution_count": null,
      "outputs": [
        {
          "output_type": "execute_result",
          "data": {
            "text/plain": [
              "tensor([1.3333, 2.0000, 2.6667])"
            ]
          },
          "metadata": {},
          "execution_count": 44
        }
      ]
    },
    {
      "cell_type": "markdown",
      "metadata": {
        "id": "hfPMQ8poUrYl"
      },
      "source": [
        "`x.grad` will now contain the gradient $\\partial y/ \\partial \\mathcal{x}$, and this gradient indicates how a change in $\\mathbf{x}$ will affect output $y$ given the current input $\\mathbf{x}=[0,1,2]$:"
      ]
    },
    {
      "cell_type": "code",
      "execution_count": null,
      "metadata": {
        "colab": {
          "base_uri": "https://localhost:8080/"
        },
        "id": "8NBo4I-lUrYm",
        "outputId": "c9694a85-4fdb-49dd-ef94-195b317aa0c7"
      },
      "outputs": [
        {
          "output_type": "stream",
          "name": "stdout",
          "text": [
            "tensor([1.3333, 2.0000, 2.6667])\n"
          ]
        }
      ],
      "source": [
        "print(x.grad)"
      ]
    },
    {
      "cell_type": "markdown",
      "metadata": {
        "id": "R-hYxQhGUrYm"
      },
      "source": [
        "We can also verify these gradients by hand. We will calculate the gradients using the chain rule, in the same way as PyTorch did it:\n",
        "\n",
        "$$\\frac{\\partial y}{\\partial x_i} = \\frac{\\partial y}{\\partial c_i}\\frac{\\partial c_i}{\\partial b_i}\\frac{\\partial b_i}{\\partial a_i}\\frac{\\partial a_i}{\\partial x_i}$$\n",
        "\n",
        "Note that we have simplified this equation to index notation, and by using the fact that all operation besides the mean do not combine the elements in the tensor. The partial derivatives are:\n",
        "\n",
        "$$\n",
        "\\frac{\\partial a_i}{\\partial x_i} = 1,\\hspace{1cm}\n",
        "\\frac{\\partial b_i}{\\partial a_i} = 2\\cdot a_i\\hspace{1cm}\n",
        "\\frac{\\partial c_i}{\\partial b_i} = 1\\hspace{1cm}\n",
        "\\frac{\\partial y}{\\partial c_i} = \\frac{1}{3}\n",
        "$$\n",
        "\n",
        "Hence, with the input being $\\mathbf{x}=[0,1,2]$, our gradients are $\\partial y/\\partial \\mathbf{x}=[4/3,2,8/3]$. The previous code cell should have printed the same result."
      ]
    },
    {
      "cell_type": "code",
      "source": [
        "# external_grad = torch.tensor([1., 1., 1.])\n",
        "# b.backward(gradient=external_grad)\n",
        "# print(x.grad)"
      ],
      "metadata": {
        "id": "eMqXjpynljel"
      },
      "execution_count": null,
      "outputs": []
    },
    {
      "cell_type": "markdown",
      "source": [
        "## An example showing utility of Autograd."
      ],
      "metadata": {
        "id": "lxvEzHk1kHq6"
      }
    },
    {
      "cell_type": "markdown",
      "metadata": {
        "id": "nYJYvKlgUrYd"
      },
      "source": [
        "We will use a problem of fitting $$y=\\sin(x)$$ with a third order polynomial as our running example. The network will have four parameters, and will be trained with gradient descent to fit random data by minimizing the Euclidean distance between the network output and the true output. We need to manually implement the forward and backward passes through the network.\n",
        "$$y=a + b x + c x^ 2 + d x ^3$$\n",
        "\n",
        "We have a set of data points consisting of independent variables $x_i$ and corresponding observed output $y_i$. The set is represented as $\\{(x_0,y_0),(x_1,y_1),(x_2,y_2),\\dots(x_N,y_N)\\}$. Also, corresponding to each $x_i$ we have a predicted value $y_i^{pred}$.\n",
        "The error is represented as\n",
        "$$\\mathcal{L}=\\sum_{i=1}^N {(y^{pred}_i-y_i)}^2=\\sum_{i=1}^N {(y^{pred}_i-a + b x_i + c x_i^ 2 + d x_i^3)}^2  $$\n",
        "\n",
        "$$\\frac{\\partial\\mathcal{L}}{\\partial a}=\\frac{\\partial}{\\partial a}\\sum_{i=1}^N {(y^{pred}_i-y_i)}^2=2*\\sum_{i=1}^N {(y^{pred}_i-y_i)}$$\n",
        "\n",
        "$$a^{new}=a^{old}-\\eta\\frac{\\partial\\mathcal{L}}{\\partial a}$$\n",
        "\n",
        "$$\\frac{\\partial\\mathcal{L}}{\\partial b}=\\frac{\\partial}{\\partial b}\\sum_{i=1}^N {(y^{pred}_i-y_i)}^2=2*\\sum_{i=1}^N {x_i*(y^{pred}_i-y_i)}$$\n",
        "\n",
        "$$b^{new}=b^{old}-\\eta\\frac{\\partial\\mathcal{L}}{\\partial b}$$\n",
        "\n",
        "\n",
        "<!-- Actual taylors expansion of $sin(x)$\n",
        "$$sin(x)=x - \\frac{x^3}{3!}  + \\frac{x^5}{5!} - \\frac{x^7}{7!}+\\dots$$  -->"
      ]
    },
    {
      "cell_type": "code",
      "execution_count": null,
      "metadata": {
        "colab": {
          "base_uri": "https://localhost:8080/"
        },
        "id": "ZLWy92TQUrYe",
        "outputId": "948209bb-e4be-431b-a0bb-eca05b53e97a"
      },
      "outputs": [
        {
          "output_type": "stream",
          "name": "stdout",
          "text": [
            "epoch= 99 loss= 49.618927001953125\n",
            "epoch= 199 loss= 35.90647888183594\n",
            "epoch= 299 loss= 26.807209014892578\n",
            "epoch= 399 loss= 20.767730712890625\n",
            "epoch= 499 loss= 16.758092880249023\n",
            "epoch= 599 loss= 14.095491409301758\n",
            "epoch= 699 loss= 12.326841354370117\n",
            "epoch= 799 loss= 11.151649475097656\n",
            "epoch= 899 loss= 10.37054443359375\n",
            "epoch= 999 loss= 9.851200103759766\n",
            "epoch= 1099 loss= 9.505781173706055\n",
            "epoch= 1199 loss= 9.275955200195312\n",
            "epoch= 1299 loss= 9.122978210449219\n",
            "epoch= 1399 loss= 9.021109580993652\n",
            "epoch= 1499 loss= 8.953239440917969\n",
            "epoch= 1599 loss= 8.908007621765137\n",
            "epoch= 1699 loss= 8.87784194946289\n",
            "epoch= 1799 loss= 8.857717514038086\n",
            "epoch= 1899 loss= 8.84428596496582\n",
            "epoch= 1999 loss= 8.83531665802002\n",
            "Result: y = 0.001921632094308734 + 0.8529943227767944 x + -0.0003315142239443958 x^2 + -0.09279748052358627 x^3\n"
          ]
        }
      ],
      "source": [
        "import math\n",
        "\n",
        "\n",
        "dtype = torch.float\n",
        "# device = torch.device(\"cpu\")\n",
        "device = torch.device(\"cuda:0\") # Uncomment this to run on GPU\n",
        "\n",
        "# Create random input and output data\n",
        "x = torch.linspace(-math.pi, math.pi, 2000, device=device, dtype=dtype)\n",
        "y = torch.sin(x)\n",
        "\n",
        "# Randomly initialize weights\n",
        "a = torch.randn((), device=device, dtype=dtype)\n",
        "b = torch.randn((), device=device, dtype=dtype)\n",
        "c = torch.randn((), device=device, dtype=dtype)\n",
        "d = torch.randn((), device=device, dtype=dtype)\n",
        "#print(\"a\",a)\n",
        "\n",
        "learning_rate = 1e-6\n",
        "for t in range(2000):\n",
        "    # Forward pass: compute predicted y\n",
        "    y_pred = a + b * x + c * x ** 2 + d * x ** 3\n",
        "\n",
        "    # Compute and print loss\n",
        "    loss = (y_pred - y).pow(2).sum().item()\n",
        "    if t % 100 == 99:\n",
        "        print(\"epoch=\",t, \"loss=\",loss)\n",
        "\n",
        "    # Backprop to compute gradients of a, b, c, d with respect to loss\n",
        "    grad_y_pred = 2.0 * (y_pred - y)\n",
        "    grad_a = grad_y_pred.sum()\n",
        "    grad_b = (grad_y_pred * x).sum()\n",
        "    grad_c = (grad_y_pred * x ** 2).sum()\n",
        "    grad_d = (grad_y_pred * x ** 3).sum()\n",
        "\n",
        "    # Update weights using gradient descent\n",
        "    a -= learning_rate * grad_a\n",
        "    b -= learning_rate * grad_b\n",
        "    c -= learning_rate * grad_c\n",
        "    d -= learning_rate * grad_d\n",
        "\n",
        "print(f'Result: y = {a.item()} + {b.item()} x + {c.item()} x^2 + {d.item()} x^3')"
      ]
    },
    {
      "cell_type": "markdown",
      "metadata": {
        "id": "fxjvONz4UrYf"
      },
      "source": [
        "\n",
        "In the above examples, we had to manually implement both the forward and backward passes of our model. Manually implementing the backward pass is not a big deal for a small model, but can quickly get very complicated for large complex models.\n",
        "\n",
        "\n",
        "Here we use PyTorch Tensors and `autograd` to implement our fitting sine wave with third order polynomial example; now we no longer need to manually implement the backward pass through the network:"
      ]
    },
    {
      "cell_type": "code",
      "execution_count": null,
      "metadata": {
        "id": "8D9E-gYeUrYf",
        "colab": {
          "base_uri": "https://localhost:8080/"
        },
        "outputId": "dce84725-f45b-4a88-9362-a786428107da"
      },
      "outputs": [
        {
          "output_type": "stream",
          "name": "stdout",
          "text": [
            "99 1257.076416015625\n",
            "199 845.1871948242188\n",
            "299 569.6217041015625\n",
            "399 385.13702392578125\n",
            "499 261.5420837402344\n",
            "599 178.67962646484375\n",
            "699 123.08329010009766\n",
            "799 85.75193786621094\n",
            "899 60.66405487060547\n",
            "999 43.79005813598633\n",
            "1099 32.43064880371094\n",
            "1199 24.77670669555664\n",
            "1299 19.614675521850586\n",
            "1399 16.129802703857422\n",
            "1499 13.77493953704834\n",
            "1599 12.182043075561523\n",
            "1699 11.103438377380371\n",
            "1799 10.37230396270752\n",
            "1899 9.876167297363281\n",
            "1999 9.539130210876465\n",
            "Result: y = -0.01925640180706978 + 0.8375190496444702 x + 0.0033220481127500534 x^2 + -0.09059625118970871 x^3\n"
          ]
        }
      ],
      "source": [
        "# -*- coding: utf-8 -*-\n",
        "import torch\n",
        "import math\n",
        "\n",
        "dtype = torch.float\n",
        "device = torch.device(\"cpu\")\n",
        "# device = torch.device(\"cuda:0\")  # Uncomment this to run on GPU\n",
        "\n",
        "# Create Tensors to hold input and outputs.\n",
        "# By default, requires_grad=False, which indicates that we do not need to\n",
        "# compute gradients with respect to these Tensors during the backward pass.\n",
        "x = torch.linspace(-math.pi, math.pi, 2000, device=device, dtype=dtype)\n",
        "y = torch.sin(x)\n",
        "\n",
        "# Create random Tensors for weights. For a third order polynomial, we need\n",
        "# 4 weights: y = a + b x + c x^2 + d x^3\n",
        "# Setting requires_grad=True indicates that we want to compute gradients with\n",
        "# respect to these Tensors during the backward pass.\n",
        "a = torch.randn((), device=device, dtype=dtype, requires_grad=True)\n",
        "b = torch.randn((), device=device, dtype=dtype, requires_grad=True)\n",
        "c = torch.randn((), device=device, dtype=dtype, requires_grad=True)\n",
        "d = torch.randn((), device=device, dtype=dtype, requires_grad=True)\n",
        "\n",
        "\n",
        "learning_rate = 1e-6\n",
        "for t in range(2000):\n",
        "    # Forward pass: compute predicted y using operations on Tensors.\n",
        "    y_pred = a + b * x + c * x ** 2 + d * x ** 3\n",
        "\n",
        "    # Compute and print loss using operations on Tensors.\n",
        "    # Now loss is a Tensor of shape (1,)\n",
        "    # loss.item() gets the scalar value held in the loss.\n",
        "    loss = (y_pred - y).pow(2).sum()\n",
        "    if t % 100 == 99:\n",
        "        print(t, loss.item())\n",
        "\n",
        "    # Use autograd to compute the backward pass. This call will compute the\n",
        "    # gradient of loss with respect to all Tensors with requires_grad=True.\n",
        "    # After this call a.grad, b.grad. c.grad and d.grad will be Tensors holding\n",
        "    # the gradient of the loss with respect to a, b, c, d respectively.\n",
        "    loss.backward()\n",
        "\n",
        "    # Manually update weights using gradient descent. Wrap in torch.no_grad()\n",
        "    # because weights have requires_grad=True, but we don't need to track this\n",
        "    # in autograd.\n",
        "    with torch.no_grad():\n",
        "        a -= learning_rate * a.grad\n",
        "        b -= learning_rate * b.grad\n",
        "        c -= learning_rate * c.grad\n",
        "        d -= learning_rate * d.grad\n",
        "\n",
        "        # Manually zero the gradients after updating weights\n",
        "        a.grad = None\n",
        "        b.grad = None\n",
        "        c.grad = None\n",
        "        d.grad = None\n",
        "\n",
        "print(f'Result: y = {a.item()} + {b.item()} x + {c.item()} x^2 + {d.item()} x^3')"
      ]
    },
    {
      "cell_type": "markdown",
      "metadata": {
        "id": "CkCOhKMxUrYn"
      },
      "source": [
        "## References\n",
        "<ul>\n",
        "  <li><a href=\"https://github.com/haofeixu/cs231n/blob/master/assignment2/PyTorch.ipynb\">cs231n</a></li>\n",
        "  <li><a href=\"https://pytorch.org/tutorials\">PyTorch Tutorials</a></li>\n",
        "  <li><a href=\"https://github.com/jcjohnson/cnn-benchmarks\">CPU GPU speedup comparison</a></li>\n",
        "  <li><a href=\"https://uvadlc-notebooks.readthedocs.io/en/latest/tutorial_notebooks/tutorial2/Introduction_to_PyTorch.html\">Computation graph</a></li>\n",
        "</ul>"
      ]
    }
  ],
  "metadata": {
    "kernelspec": {
      "display_name": "Python 3",
      "language": "python",
      "name": "python3"
    },
    "language_info": {
      "codemirror_mode": {
        "name": "ipython",
        "version": 3
      },
      "file_extension": ".py",
      "mimetype": "text/x-python",
      "name": "python",
      "nbconvert_exporter": "python",
      "pygments_lexer": "ipython3",
      "version": "3.8.5"
    },
    "colab": {
      "provenance": [],
      "include_colab_link": true
    },
    "accelerator": "GPU",
    "gpuClass": "standard"
  },
  "nbformat": 4,
  "nbformat_minor": 0
}