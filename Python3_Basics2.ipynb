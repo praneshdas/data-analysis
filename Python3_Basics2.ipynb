{
  "cells": [
    {
      "cell_type": "markdown",
      "metadata": {
        "id": "view-in-github",
        "colab_type": "text"
      },
      "source": [
        "<a href=\"https://colab.research.google.com/github/praneshdas/data-clustering/blob/main/Python3_Basics2.ipynb\" target=\"_parent\"><img src=\"https://colab.research.google.com/assets/colab-badge.svg\" alt=\"Open In Colab\"/></a>"
      ]
    },
    {
      "cell_type": "markdown",
      "metadata": {
        "id": "2QjaM6OQL7IK"
      },
      "source": [
        "<h2 align=\"left\"><u>What are Conditional statements?</u> if-elif-else</h2>"
      ]
    },
    {
      "cell_type": "raw",
      "metadata": {
        "id": "mxo4omqKL7IL"
      },
      "source": [
        "\n",
        "```\n",
        "#If-else block\n",
        "If (this):\n",
        "    do this\n",
        "else:\n",
        "    do this\n",
        "\n",
        "```\n",
        "\n",
        "```\n",
        "#Nested if-else block\n",
        "If (this):\n",
        "    do task A\n",
        "Else if (this):\n",
        "    do task B\n",
        "Else if (this):\n",
        "    do task C\n",
        "Else:\n",
        "    do task D\n",
        "\n",
        "```\n",
        "\n",
        "```\n",
        "#Nested Else-if\n",
        "If this happens:\n",
        "    If this happens:\n",
        "         If this happens:\n",
        "            what is the result?\n",
        "         Else:\n",
        "             what is the result?\n",
        "    Else:\n",
        "         what is the result?\n",
        "Else:\n",
        "     what is the result?\n",
        "```"
      ]
    },
    {
      "cell_type": "code",
      "execution_count": 1,
      "metadata": {
        "id": "D4LXjyBBL7IM"
      },
      "outputs": [],
      "source": [
        "# General structure\n",
        "\n",
        "# if result of condition1:\n",
        "#     statement(s)\n",
        "\n",
        "# elif condition2:\n",
        "#     statement(s)\n",
        "\n",
        "# elif condition3:\n",
        "#     statement(s)\n",
        "\n",
        "# ...\n",
        "\n",
        "# elif conditionN:\n",
        "#     statement(s)\n",
        "\n",
        "# else:\n",
        "#     statement(s)"
      ]
    },
    {
      "cell_type": "code",
      "execution_count": null,
      "metadata": {
        "id": "wafSSFYDL7IN",
        "outputId": "5a34393a-ea95-46da-8b78-32476d808c94",
        "colab": {
          "base_uri": "https://localhost:8080/"
        }
      },
      "outputs": [
        {
          "output_type": "stream",
          "name": "stdout",
          "text": [
            "a2 is greater\n"
          ]
        }
      ],
      "source": [
        "a1 = 7\n",
        "a2 = 8\n",
        "\n",
        "if a1 > a2:\n",
        "    print('a1 is greater')\n",
        "elif a1 < a2:\n",
        "    print('a2 is greater')\n",
        "else:\n",
        "    print('a1 and a2 are equal')"
      ]
    },
    {
      "cell_type": "code",
      "source": [
        "inp_1 = 123\n",
        "inp_2 = 342\n",
        "\n",
        "if inp_1 == inp_2:\n",
        "  print(\"both strings are equal\")\n",
        "else:\n",
        "  if inp_1 < inp_2:\n",
        "    print(\"inp_2 is greater than inp_1 with a difference \", inp_2 - inp_1)\n",
        "  else:\n",
        "    print(\"inp_2 is smaller than inp_1 with a difference \", inp_1 - inp_2)"
      ],
      "metadata": {
        "colab": {
          "base_uri": "https://localhost:8080/"
        },
        "id": "osG24FTPWE4O",
        "outputId": "9ef1849f-a3ec-4638-92cb-536e35ea0b27"
      },
      "execution_count": null,
      "outputs": [
        {
          "output_type": "stream",
          "name": "stdout",
          "text": [
            "inp_2 is greater than inp_1 with a difference  219\n"
          ]
        }
      ]
    },
    {
      "cell_type": "markdown",
      "metadata": {
        "id": "m_6UycznL7IP"
      },
      "source": [
        "<p> <b>Exercise 1: </b> Write a program that takes an integer as input, and prints whether the number is odd or even.<p>"
      ]
    },
    {
      "cell_type": "code",
      "execution_count": null,
      "metadata": {
        "id": "RBixLLvyL7IQ",
        "outputId": "f1946f8d-cc36-457b-8604-552758cff35c",
        "colab": {
          "base_uri": "https://localhost:8080/"
        }
      },
      "outputs": [
        {
          "output_type": "stream",
          "name": "stdout",
          "text": [
            "Enter an integer:9\n",
            "9 is odd\n"
          ]
        }
      ],
      "source": [
        "x = int(input(\"Enter an integer:\"))\n",
        "\n",
        "if x % 2 == 1:\n",
        "    print(x, 'is odd')\n",
        "else:\n",
        "    print(x, 'is even')"
      ]
    },
    {
      "cell_type": "markdown",
      "metadata": {
        "id": "3aHPvmZoL7IR"
      },
      "source": [
        "<h2 align=\"left\"><u>Python Follows INDENTATIONS instead of bracket in C</u></h2>\n",
        "<p style=\"font-size:17px\">\n",
        "a. There are no braces {} in Python to demarcate blocks of code<br>\n",
        "b. Indentations (whitespaces) demarcate blocks of code <br>\n",
        "c. Changes in indentation mark where a block begins, and where it ends <br>\n",
        "d. A common convention: 4 spaces (or 1 tab, which the editor converts to 4 spaces)\n",
        "</p>"
      ]
    },
    {
      "cell_type": "code",
      "execution_count": null,
      "metadata": {
        "id": "rsOl5Q_8L7IR",
        "outputId": "8fac287d-2462-4e27-9d9e-dd524a6e0301",
        "colab": {
          "base_uri": "https://localhost:8080/"
        }
      },
      "outputs": [
        {
          "output_type": "stream",
          "name": "stdout",
          "text": [
            "WSDL\n"
          ]
        }
      ],
      "source": [
        "a1 = 10\n",
        "a2 = 20\n",
        "a3 = 30\n",
        "\n",
        "if a1 == 10:\n",
        "    if a2 == 10:\n",
        "        if a3 == 20:\n",
        "            print('ECSU')\n",
        "        else:\n",
        "            print('ISI')\n",
        "    else:\n",
        "        print('WSDL')\n",
        "else:\n",
        "    print('2023')"
      ]
    },
    {
      "cell_type": "markdown",
      "metadata": {
        "id": "lBDkClWTL7IS"
      },
      "source": [
        "<h2 align=\"left\">8. Loops</h2>\n",
        "<h3> To do an action Repeatatively</h3>"
      ]
    },
    {
      "cell_type": "markdown",
      "source": [
        "```\n",
        "#range() - a function that performs an iterated operation\n",
        "#from first index to last index using a difference as step\n",
        "```\n",
        "<h3> For Loop</h3>\n",
        "\n",
        "```\n",
        "for index in range(starting index, last index, step):\n",
        "  do task\n",
        "```"
      ],
      "metadata": {
        "id": "pJ1-a46IYPq8"
      }
    },
    {
      "cell_type": "code",
      "execution_count": null,
      "metadata": {
        "id": "vsdesBMtL7IU",
        "outputId": "975453ba-f5c7-4864-dbbb-1fcf39745f3b",
        "colab": {
          "base_uri": "https://localhost:8080/"
        }
      },
      "outputs": [
        {
          "output_type": "stream",
          "name": "stdout",
          "text": [
            "0\n",
            "1\n",
            "2\n",
            "3\n",
            "4\n"
          ]
        }
      ],
      "source": [
        "# range(t) : goes from 0 to t-1\n",
        "#Default step is 1\n",
        "for i in range(0, 5): # [0, 1, 2, 3, 4, 5]\n",
        "    print(i)"
      ]
    },
    {
      "cell_type": "code",
      "execution_count": null,
      "metadata": {
        "id": "7yFPvp3_L7IV",
        "outputId": "0cae8192-d9d8-4272-bf3c-8da5fb0239ff",
        "colab": {
          "base_uri": "https://localhost:8080/"
        }
      },
      "outputs": [
        {
          "output_type": "stream",
          "name": "stdout",
          "text": [
            "2\n",
            "4\n",
            "6\n"
          ]
        }
      ],
      "source": [
        "# range(start, end, step_size)\n",
        "\n",
        "for i in range(2, 7,2):\n",
        "    print(i)"
      ]
    },
    {
      "cell_type": "code",
      "execution_count": null,
      "metadata": {
        "id": "JryoOvIkL7IV",
        "outputId": "1d8f746d-71d1-44cb-ab91-fb352375f074",
        "colab": {
          "base_uri": "https://localhost:8080/"
        }
      },
      "outputs": [
        {
          "output_type": "stream",
          "name": "stdout",
          "text": [
            "5\n",
            "6\n",
            "7\n"
          ]
        }
      ],
      "source": [
        "cnt = 0\n",
        "for i in range(5,10):\n",
        "    if cnt==3:\n",
        "      break\n",
        "    print(i)\n",
        "    cnt = cnt + 1"
      ]
    },
    {
      "cell_type": "code",
      "execution_count": null,
      "metadata": {
        "scrolled": true,
        "id": "NHfiGDaKL7IW",
        "outputId": "2f1b7bc4-5a5d-40ce-8551-17253414d60e",
        "colab": {
          "base_uri": "https://localhost:8080/"
        }
      },
      "outputs": [
        {
          "output_type": "stream",
          "name": "stdout",
          "text": [
            "0\n",
            "2\n",
            "4\n",
            "6\n",
            "8\n",
            "\n",
            "\n",
            "8\n",
            "6\n",
            "4\n",
            "2\n",
            "0\n"
          ]
        }
      ],
      "source": [
        "# Opposite step direction\n",
        "#### FORWARD DIRECTION\n",
        "for i in range(0,10,2):\n",
        "    print(i)\n",
        "\n",
        "print('\\n')\n",
        "\n",
        "#### BACKWARD DIRECTION\n",
        "for i in range(8,-1,-2):\n",
        "    print(i)"
      ]
    },
    {
      "cell_type": "code",
      "execution_count": null,
      "metadata": {
        "id": "eZMF4X56L7IX",
        "outputId": "225f1fc0-974d-4195-a06b-8f854b7d4594",
        "colab": {
          "base_uri": "https://localhost:8080/"
        }
      },
      "outputs": [
        {
          "output_type": "stream",
          "name": "stdout",
          "text": [
            "t\n",
            "h\n",
            "e\n",
            " \n",
            "s\n",
            "a\n",
            "t\n",
            "e\n",
            "l\n",
            "l\n",
            "i\n",
            "t\n",
            "e\n"
          ]
        }
      ],
      "source": [
        "# Iterate over strings\n",
        "\n",
        "str1 = 'the satellite'\n",
        "\n",
        "for i in str1:\n",
        "    print(i)"
      ]
    },
    {
      "cell_type": "code",
      "execution_count": null,
      "metadata": {
        "id": "yZQRpT9ZL7IX",
        "outputId": "d043ae9d-5ca3-4f2c-f43a-61e1910374a3",
        "colab": {
          "base_uri": "https://localhost:8080/"
        }
      },
      "outputs": [
        {
          "output_type": "stream",
          "name": "stdout",
          "text": [
            "t\n"
          ]
        }
      ],
      "source": [
        "# Iterate more explicitly:\n",
        "print(str1[6])"
      ]
    },
    {
      "cell_type": "code",
      "execution_count": null,
      "metadata": {
        "id": "pJTE1NVKL7IY",
        "outputId": "d8bb775f-8ebc-47b5-edee-04d14cee2b66",
        "colab": {
          "base_uri": "https://localhost:8080/"
        }
      },
      "outputs": [
        {
          "output_type": "stream",
          "name": "stdout",
          "text": [
            "1 t\n",
            "2 h\n",
            "3 e\n",
            "4  \n",
            "5 s\n",
            "6 a\n",
            "7 t\n",
            "8 e\n",
            "9 l\n",
            "10 l\n",
            "11 i\n",
            "12 t\n",
            "13 e\n"
          ]
        }
      ],
      "source": [
        "for i in range(len(str1)):\n",
        "    print(i+1, str1[i])"
      ]
    },
    {
      "cell_type": "markdown",
      "source": [
        "<h3>While Loop</h3>\n",
        "\n",
        "```\n",
        "while Condition:\n",
        "  Statement(s)\n",
        "```"
      ],
      "metadata": {
        "id": "Fv2rPXCLezsd"
      }
    },
    {
      "cell_type": "code",
      "execution_count": null,
      "metadata": {
        "scrolled": true,
        "id": "_-oV7OS-L7IY",
        "outputId": "bf53a5d3-215c-4c86-86a7-0facca2823f3",
        "colab": {
          "base_uri": "https://localhost:8080/"
        }
      },
      "outputs": [
        {
          "output_type": "stream",
          "name": "stdout",
          "text": [
            "0\n",
            "4\n",
            "8\n",
            "12\n",
            "16\n",
            "20\n",
            "24\n"
          ]
        }
      ],
      "source": [
        "i = 0 #Initialzation of iterator (say i)\n",
        "\n",
        "while i <= 24: #Put the condition on the iterator / Starting from i = 0 ending in 24\n",
        "    print(i)\n",
        "    i += 4 #Increment of the iterator / step in For Loop"
      ]
    },
    {
      "cell_type": "markdown",
      "metadata": {
        "id": "T_mPaBlfL7IZ"
      },
      "source": [
        "<b><H2>Exercise:</b> Do these programs using for and while loops both</H2>\n",
        "\n",
        "1. Write a program to print the odd integers upto 100.\n",
        "\n",
        "2. Then COUNT for odd integers which are divisible by 3 when the odd number is greater than 50."
      ]
    },
    {
      "cell_type": "code",
      "execution_count": null,
      "metadata": {
        "id": "dYKBnLNsL7IZ",
        "outputId": "faa54b56-81b0-495c-ec67-263a02a192d4",
        "colab": {
          "base_uri": "https://localhost:8080/"
        }
      },
      "outputs": [
        {
          "output_type": "stream",
          "name": "stdout",
          "text": [
            "Odd integers divisible by 3 within 50 to 100:  9 \n",
            "Odd integers within 0 to 100: 50\n"
          ]
        }
      ],
      "source": [
        "i = 0\n",
        "count_odd = 0\n",
        "count = 0\n",
        "while i <= 100:\n",
        "    if i%2!=0:\n",
        "        count_odd = count_odd + 1\n",
        "        if i > 50 and i %3 ==0:\n",
        "          count = count + 1\n",
        "\n",
        "    i += 1\n",
        "print(\"Odd integers divisible by 3 within 50 to 100: \",count,\"\\nOdd integers within 0 to 100:\",count_odd)"
      ]
    },
    {
      "cell_type": "markdown",
      "metadata": {
        "id": "zgURutmIL7IZ"
      },
      "source": [
        "<h2 align=\"left\">9. <i>break, continue</i></h2>"
      ]
    },
    {
      "cell_type": "code",
      "execution_count": null,
      "metadata": {
        "ExecuteTime": {
          "end_time": "2021-03-01T11:36:03.575555Z",
          "start_time": "2021-03-01T11:36:03.566793Z"
        },
        "id": "6L_ZNxy0L7IZ",
        "outputId": "305cfad7-535c-4e25-f7c3-e601070a490f",
        "colab": {
          "base_uri": "https://localhost:8080/"
        }
      },
      "outputs": [
        {
          "output_type": "stream",
          "name": "stdout",
          "text": [
            "0\n",
            "1\n",
            "2\n",
            "3\n",
            "4\n",
            "5\n",
            "6\n",
            "7\n",
            "8\n",
            "9\n",
            "10\n",
            "11\n"
          ]
        }
      ],
      "source": [
        "# break\n",
        "\n",
        "i = 0\n",
        "while True:\n",
        "    print(i)\n",
        "    i += 1\n",
        "    if i > 10:\n",
        "        break\n",
        "\n",
        "print(i)"
      ]
    },
    {
      "cell_type": "code",
      "execution_count": null,
      "metadata": {
        "ExecuteTime": {
          "end_time": "2021-03-01T11:37:19.628222Z",
          "start_time": "2021-03-01T11:37:19.614684Z"
        },
        "id": "EPl7nzsFL7Ia",
        "outputId": "fd565fb1-c9d8-498f-cf08-c288c9720e21",
        "colab": {
          "base_uri": "https://localhost:8080/"
        }
      },
      "outputs": [
        {
          "output_type": "stream",
          "name": "stdout",
          "text": [
            "0\n",
            "1\n",
            "2\n",
            "3\n",
            "4\n",
            "5\n",
            "6\n",
            "7\n",
            "8\n",
            "9\n",
            "10\n",
            "11\n"
          ]
        }
      ],
      "source": [
        "for i in range(15):\n",
        "    print(i)\n",
        "    if i > 10:\n",
        "        break"
      ]
    },
    {
      "cell_type": "code",
      "execution_count": null,
      "metadata": {
        "ExecuteTime": {
          "end_time": "2021-03-01T11:40:23.197356Z",
          "start_time": "2021-03-01T11:40:23.187053Z"
        },
        "id": "7PisnPkZL7Ia",
        "outputId": "7a4b1e1d-9c26-42a9-c597-1c2848be6335",
        "colab": {
          "base_uri": "https://localhost:8080/"
        }
      },
      "outputs": [
        {
          "output_type": "stream",
          "name": "stdout",
          "text": [
            "before continue\n",
            "before continue\n",
            "before continue\n",
            "before continue\n",
            "before continue\n",
            "before continue\n",
            "before continue\n",
            "before continue\n",
            "before continue\n",
            "before continue\n",
            "21\n"
          ]
        }
      ],
      "source": [
        "# continue\n",
        "\n",
        "i = 0\n",
        "while True:\n",
        "#     continue\n",
        "    i += 1\n",
        "    if i > 20:\n",
        "        break\n",
        "    elif i <= 10:\n",
        "        print('before continue')\n",
        "        continue\n",
        "        print('something')\n",
        "\n",
        "print(i)"
      ]
    },
    {
      "cell_type": "markdown",
      "metadata": {
        "id": "Ns3XQtlkL7Ia"
      },
      "source": [
        "<h3><b><u>Algorithm:</u></b></h3>\n",
        "\n",
        "```\n",
        "1. Input a starting and ending index from the user\n",
        "2. if difference between starting and ending index > 10\n",
        "    then check for even or odd upto difference 20\n",
        "    if odd then count the elements which are divisible by 3 and 5\n",
        "3. else go for a walk and print the elements\n",
        "```"
      ]
    },
    {
      "cell_type": "markdown",
      "metadata": {
        "id": "iSHTskkpL7Iq"
      },
      "source": [
        "<h2 align=\"left\">10. Functions</h2>"
      ]
    },
    {
      "cell_type": "markdown",
      "source": [
        "```\n",
        "# Generic Structure of function in Python\n",
        "\n",
        "def functionName(argument1, argument2, argumentN):\n",
        "     statement(s)\n",
        "     return return1, return2, returnN\n",
        "\n",
        "#The function maynot return any value.\n",
        "```\n",
        "\n"
      ],
      "metadata": {
        "id": "W5xm1D_lepL2"
      }
    },
    {
      "cell_type": "code",
      "execution_count": null,
      "metadata": {
        "ExecuteTime": {
          "end_time": "2021-03-01T11:44:53.894247Z",
          "start_time": "2021-03-01T11:44:53.884415Z"
        },
        "id": "xsy1tvl-L7Ir"
      },
      "outputs": [],
      "source": [
        "def addition(n1, n2):\n",
        "    add_result = n1 + n2\n",
        "    return add_result #add_result = n1+n2"
      ]
    },
    {
      "cell_type": "code",
      "source": [
        "def substraction(n1, n2):\n",
        "    subs_result = n1 - n2\n",
        "    return subs_result #subs_result = n1-n2"
      ],
      "metadata": {
        "id": "LSkLskhDTJRq"
      },
      "execution_count": null,
      "outputs": []
    },
    {
      "cell_type": "code",
      "source": [
        "def multiplication(n1, n2):\n",
        "    mult_result = n1 * n2\n",
        "    return mult_result #mult_result = n1*n2"
      ],
      "metadata": {
        "id": "Y2gdFom_TX-O"
      },
      "execution_count": null,
      "outputs": []
    },
    {
      "cell_type": "code",
      "source": [
        "def division(n1, n2):\n",
        "    divide_result = n1 / n2\n",
        "    return divide_result #divide_result = n1/n2"
      ],
      "metadata": {
        "id": "LI3VprQuTkvE"
      },
      "execution_count": null,
      "outputs": []
    },
    {
      "cell_type": "code",
      "source": [
        "print(addition(20,15))"
      ],
      "metadata": {
        "colab": {
          "base_uri": "https://localhost:8080/"
        },
        "id": "fvftPDyZnfyc",
        "outputId": "d41eb52c-7413-40db-a2dc-aa6ebd3fe06b"
      },
      "execution_count": null,
      "outputs": [
        {
          "output_type": "stream",
          "name": "stdout",
          "text": [
            "35\n"
          ]
        }
      ]
    },
    {
      "cell_type": "code",
      "execution_count": null,
      "metadata": {
        "id": "26-L93PUL7Ir"
      },
      "outputs": [],
      "source": [
        "def list_of_my_functions(n1, n2):\n",
        "    functions = {\"add\": addition(n1, n2), \"substract\": substraction(n1,n2), \"multiply\": multiplication(n1,n2), \"divide\": division(n1,n2)}\n",
        "    for i in functions:\n",
        "        print(i, functions[i])\n",
        "#return functions"
      ]
    },
    {
      "cell_type": "code",
      "execution_count": null,
      "metadata": {
        "ExecuteTime": {
          "end_time": "2021-03-01T11:44:53.894247Z",
          "start_time": "2021-03-01T11:44:53.884415Z"
        },
        "id": "foewuUUzL7Ir",
        "outputId": "a6137123-e138-433d-91ab-ca7f1fd7624d",
        "colab": {
          "base_uri": "https://localhost:8080/"
        }
      },
      "outputs": [
        {
          "output_type": "stream",
          "name": "stdout",
          "text": [
            "add 20\n",
            "substract 4\n",
            "multiply 96\n",
            "divide 1.5\n"
          ]
        }
      ],
      "source": [
        "list_of_my_functions(12, 8)"
      ]
    },
    {
      "cell_type": "code",
      "execution_count": null,
      "metadata": {
        "id": "YErCN37RL7Ir"
      },
      "outputs": [],
      "source": [
        "#Creating a calculator with Addition, Substraction, Multiplication and Division Operation\n",
        "def calculator(n1, n2):\n",
        "    sum_, substract, multiplication, division = n1 + n2, n1-n2, n1*n2, n1/n2\n",
        "    print('Sum: ', sum_)\n",
        "    print('substract: ', substract)\n",
        "    print('multiplication: ', multiplication)\n",
        "    print('division: ', division)"
      ]
    },
    {
      "cell_type": "code",
      "execution_count": null,
      "metadata": {
        "scrolled": true,
        "id": "PaziRAsnL7Is",
        "outputId": "63310d57-5984-4613-eda8-e500332d0a5d",
        "colab": {
          "base_uri": "https://localhost:8080/"
        }
      },
      "outputs": [
        {
          "output_type": "stream",
          "name": "stdout",
          "text": [
            "Sum:  6\n",
            "substract:  2\n",
            "multiplication:  8\n",
            "division:  2.0\n"
          ]
        }
      ],
      "source": [
        "calculator(4,2)"
      ]
    },
    {
      "cell_type": "markdown",
      "metadata": {
        "id": "HXt_kQkiL7Is"
      },
      "source": [
        "```\n",
        "Exercise:\n",
        "1. Write to program to make a calculator using function.\n",
        "2. Ask users to put the name of the operation that they want to perform.\n",
        "3. Next ask them to give the numbers for performing their chosen operations.\n",
        "4. Finally dispaly the result.\n",
        "```"
      ]
    },
    {
      "cell_type": "code",
      "execution_count": null,
      "metadata": {
        "ExecuteTime": {
          "end_time": "2021-03-01T11:46:10.108490Z",
          "start_time": "2021-03-01T11:46:10.101681Z"
        },
        "id": "6Ubdat2lL7Is"
      },
      "outputs": [],
      "source": [
        "#Function to check whether a number is even or not\n",
        "def even_1(n):\n",
        "    if n % 2 == 0:\n",
        "        is_even = True\n",
        "    else:\n",
        "        is_even = False\n",
        "    return is_even"
      ]
    },
    {
      "cell_type": "code",
      "execution_count": null,
      "metadata": {
        "id": "S1AfkkzmL7Is"
      },
      "outputs": [],
      "source": [
        "#Purpose of this funtion is simiiar  to the last function\n",
        "def even_2(n):\n",
        "    is_even = (n % 2 == 0)\n",
        "    return is_even"
      ]
    },
    {
      "cell_type": "code",
      "execution_count": null,
      "metadata": {
        "ExecuteTime": {
          "end_time": "2021-03-01T11:46:10.108490Z",
          "start_time": "2021-03-01T11:46:10.101681Z"
        },
        "id": "c-K8aTYdL7It",
        "outputId": "638c19f0-4842-4766-9b34-b38876cdfaf6",
        "colab": {
          "base_uri": "https://localhost:8080/"
        }
      },
      "outputs": [
        {
          "output_type": "stream",
          "name": "stdout",
          "text": [
            "True\n",
            "False\n"
          ]
        }
      ],
      "source": [
        "#Testing whether a given number is even or not\n",
        "\n",
        "n1 = 4\n",
        "print(even_1(n1))\n",
        "\n",
        "n2 = 7\n",
        "print(even_2(n2))"
      ]
    },
    {
      "cell_type": "code",
      "execution_count": null,
      "metadata": {
        "id": "f6EH5N7DL7It",
        "outputId": "f8eee547-704d-4f43-fc26-2c23bc62fae1",
        "colab": {
          "base_uri": "https://localhost:8080/"
        }
      },
      "outputs": [
        {
          "output_type": "stream",
          "name": "stdout",
          "text": [
            "(14, 6, 40, 2.5, 2, 2, 10000)\n",
            "24 16 80 5.0 0 5 160000\n"
          ]
        }
      ],
      "source": [
        "#Let's have a fun calculator\n",
        "def fun_calculator(n1, n2):\n",
        "    return n1+n2, n1-n2, n1*n2, n1/n2, n1%n2, n1//n2, n1**n2\n",
        "\n",
        "a1 = 10\n",
        "a2 = 4\n",
        "print(fun_calculator(a1, a2))\n",
        "\n",
        "a3 = 20\n",
        "a4 = 4\n",
        "ret1, ret2, ret3, ret4, ret5, ret6, ret7 = fun_calculator(a3, a4)\n",
        "print(ret1, ret2, ret3, ret4, ret5, ret6, ret7)"
      ]
    },
    {
      "cell_type": "code",
      "execution_count": null,
      "metadata": {
        "ExecuteTime": {
          "end_time": "2021-03-01T12:07:06.865076Z",
          "start_time": "2021-03-01T12:07:06.854594Z"
        },
        "id": "fP-qjUG5L7It"
      },
      "outputs": [],
      "source": [
        "#Addition with default value set to n2 and n3\n",
        "\n",
        "def ADD(n1, n2=4, n3=5):\n",
        "    sum = n1+n2+n3\n",
        "    return sum"
      ]
    },
    {
      "cell_type": "code",
      "execution_count": null,
      "metadata": {
        "ExecuteTime": {
          "end_time": "2021-03-01T12:07:06.865076Z",
          "start_time": "2021-03-01T12:07:06.854594Z"
        },
        "id": "LNtXuQvFL7Iu",
        "outputId": "b904315a-d11d-4876-9611-5b5b352c9b10",
        "colab": {
          "base_uri": "https://localhost:8080/"
        }
      },
      "outputs": [
        {
          "output_type": "stream",
          "name": "stdout",
          "text": [
            "63\n",
            "62\n",
            "63\n",
            "29\n"
          ]
        }
      ],
      "source": [
        "print(ADD(n1=58, n3=1))\n",
        "\n",
        "print(ADD(n1=55, n2=2))\n",
        "\n",
        "print(ADD(n1=54))\n",
        "\n",
        "print(ADD(n1=7, n2=10, n3=12))"
      ]
    },
    {
      "cell_type": "code",
      "execution_count": null,
      "metadata": {
        "ExecuteTime": {
          "end_time": "2021-03-01T12:09:20.835902Z",
          "start_time": "2021-03-01T12:09:20.824735Z"
        },
        "id": "q1FMVJ28L7Iu"
      },
      "outputs": [],
      "source": [
        "# Setting the default exponent values to 1\n",
        "\n",
        "def power(x, p=1):\n",
        "    return x**p"
      ]
    },
    {
      "cell_type": "code",
      "execution_count": null,
      "metadata": {
        "ExecuteTime": {
          "end_time": "2021-03-01T12:09:20.835902Z",
          "start_time": "2021-03-01T12:09:20.824735Z"
        },
        "id": "oFV1aUiaL7Iu",
        "outputId": "66333dc0-7321-4afe-b564-e18c149ed32f",
        "colab": {
          "base_uri": "https://localhost:8080/"
        }
      },
      "outputs": [
        {
          "output_type": "stream",
          "name": "stdout",
          "text": [
            "10\n",
            "1000\n"
          ]
        }
      ],
      "source": [
        "#Setting the exponent as default\n",
        "print(power(x=10))\n",
        "\n",
        "#Setting the exponent value to 3\n",
        "print(power(10, 3))"
      ]
    },
    {
      "cell_type": "code",
      "execution_count": null,
      "metadata": {
        "ExecuteTime": {
          "end_time": "2021-03-01T12:10:11.971629Z",
          "start_time": "2021-03-01T12:10:11.956638Z"
        },
        "id": "nzvWtN8vL7Iu",
        "outputId": "6aab0861-b1af-48a9-8506-8362e3d68287",
        "colab": {
          "base_uri": "https://localhost:8080/",
          "height": 130
        }
      },
      "outputs": [
        {
          "output_type": "error",
          "ename": "SyntaxError",
          "evalue": "ignored",
          "traceback": [
            "\u001b[0;36m  File \u001b[0;32m\"<ipython-input-21-8dcf58a0a352>\"\u001b[0;36m, line \u001b[0;32m3\u001b[0m\n\u001b[0;31m    def power(x=1,p):\u001b[0m\n\u001b[0m              ^\u001b[0m\n\u001b[0;31mSyntaxError\u001b[0m\u001b[0;31m:\u001b[0m non-default argument follows default argument\n"
          ]
        }
      ],
      "source": [
        "# Default values MUST be filled from the right and hence results in an error\n",
        "\n",
        "def power(x=1,p):\n",
        "    return x**p\n",
        "\n",
        "print(power(10, 3))"
      ]
    },
    {
      "cell_type": "markdown",
      "source": [
        "#Simple Real Life Scenarios"
      ],
      "metadata": {
        "id": "cnJiXrWaPwqs"
      }
    },
    {
      "cell_type": "markdown",
      "source": [
        "<h3> Spam Email Detection</h3>"
      ],
      "metadata": {
        "id": "X2I2OU9JP8IU"
      }
    },
    {
      "cell_type": "code",
      "source": [
        "def spam_checker(spam_mail):\n",
        "  spam_mail = spam_mail.lower()\n",
        "  if spam_mail.find('won') and spam_mail.find('claim'):\n",
        "    print('this is a spam mail')\n",
        "  else:\n",
        "    print('Not a spam Mail!')"
      ],
      "metadata": {
        "id": "eNc-QKb6QAPk"
      },
      "execution_count": null,
      "outputs": []
    },
    {
      "cell_type": "code",
      "source": [
        "str_1 = \"You have won an amount of 1 Million Dollar. Follow this simple Steps to CLAIM your prize!\"\n",
        "spam_checker(str_1)"
      ],
      "metadata": {
        "colab": {
          "base_uri": "https://localhost:8080/"
        },
        "id": "8Ctxd-TzhljA",
        "outputId": "7238175f-e0d3-4932-9ce0-597ab9d37b8b"
      },
      "execution_count": null,
      "outputs": [
        {
          "output_type": "stream",
          "name": "stdout",
          "text": [
            "this is a spam mail\n"
          ]
        }
      ]
    },
    {
      "cell_type": "markdown",
      "source": [
        "<h3>Tax Deduction System</h3>"
      ],
      "metadata": {
        "id": "Fz1pOW9SQPn1"
      }
    },
    {
      "cell_type": "code",
      "source": [
        "def slab2(net_sal):\n",
        "  return net_sal * .05\n",
        "\n",
        "def slab3(net_sal):\n",
        "  return 12500 + net_sal * .10\n",
        "\n",
        "\n",
        "def slab4(net_sal):\n",
        "  return 37500 + net_sal * .15\n",
        "\n",
        "def slab5(net_sal):\n",
        "  return 75000 + net_sal * .20\n",
        "\n",
        "def slab6(net_sal):\n",
        "  return 125000 + net_sal * .25\n",
        "\n",
        "def slab7(net_sal):\n",
        "  return 187500 + net_sal * .30"
      ],
      "metadata": {
        "id": "8TdbBxW_QTms"
      },
      "execution_count": null,
      "outputs": []
    },
    {
      "cell_type": "code",
      "source": [
        "def slab_checker(net_sal):\n",
        "  if net_sal < 250000:\n",
        "    print(\"Deducted Amount 0\")\n",
        "  elif net_sal > 250000 and net_sal < 500000:\n",
        "    print(\"Deducted Amount: \", slab2(net_sal))\n",
        "  elif net_sal > 500000 and net_sal <  750000:\n",
        "    print(\"Deducted Amount: \", slab3(net_sal))\n",
        "  elif net_sal > 750000 and net_sal <  1000000:\n",
        "    print(\"Deducted Amount: \", slab4(net_sal))\n",
        "  elif net_sal > 1000000 and net_sal <  1250000:\n",
        "    print(\"Deducted Amount: \", slab5(net_sal))\n",
        "  elif net_sal > 1250000 and net_sal <  1500000:\n",
        "    print(\"Deducted Amount: \", slab6(net_sal))\n",
        "  elif net_sal > 1500000:\n",
        "    print(\"Deducted Amount: \", slab7(net_sal))"
      ],
      "metadata": {
        "id": "bHyNSpc9iSuu"
      },
      "execution_count": null,
      "outputs": []
    },
    {
      "cell_type": "code",
      "source": [
        "sal = float(input(\"Enter your Salary:\"))\n",
        "slab_checker(sal)"
      ],
      "metadata": {
        "colab": {
          "base_uri": "https://localhost:8080/"
        },
        "id": "0q6M3kiliV_e",
        "outputId": "d907712c-d33f-4a6a-dc7f-d50fd75e4326"
      },
      "execution_count": null,
      "outputs": [
        {
          "output_type": "stream",
          "name": "stdout",
          "text": [
            "Enter your Salary:345000\n",
            "Deducted Amount:  17250.0\n"
          ]
        }
      ]
    },
    {
      "cell_type": "markdown",
      "source": [
        "<h3>Restaurant Bill Payment System</h3>"
      ],
      "metadata": {
        "id": "8gWRh34KTK49"
      }
    },
    {
      "cell_type": "code",
      "source": [
        "bill_amount = float(input(\"Enter the Bill Amount:\"))\n",
        "c_gst = s_gst = 0.025 * bill_amount\n",
        "print(\"C GST\", c_gst)\n",
        "print(\"S GST\", s_gst)\n",
        "choice = input(\"Do you want to pay Service charge? Y/N: \")\n",
        "if choice == 'Y':\n",
        "  service_charge = .07 * bill_amount\n",
        "  print(\"Service Charge\", service_charge)\n",
        "else:\n",
        "  service_charge = 0\n",
        "\n",
        "total_bill = service_charge + c_gst + s_gst + bill_amount\n",
        "print(\"Your bill amount is:\", total_bill)"
      ],
      "metadata": {
        "colab": {
          "base_uri": "https://localhost:8080/"
        },
        "id": "JgrYrHIKTQck",
        "outputId": "05f34805-2eac-4fed-aa08-7c39fff425c6"
      },
      "execution_count": null,
      "outputs": [
        {
          "output_type": "stream",
          "name": "stdout",
          "text": [
            "Enter the Bill Amount:1321\n",
            "C GST 33.025\n",
            "S GST 33.025\n",
            "Do you want to pay Service charge? Y/N: Y\n",
            "Service Charge 92.47000000000001\n",
            "Your bill amount is: 1479.52\n"
          ]
        }
      ]
    },
    {
      "cell_type": "code",
      "source": [],
      "metadata": {
        "id": "QAn0tOFwWk1N"
      },
      "execution_count": null,
      "outputs": []
    }
  ],
  "metadata": {
    "kernelspec": {
      "display_name": "Python 3",
      "language": "python",
      "name": "python3"
    },
    "language_info": {
      "codemirror_mode": {
        "name": "ipython",
        "version": 3
      },
      "file_extension": ".py",
      "mimetype": "text/x-python",
      "name": "python",
      "nbconvert_exporter": "python",
      "pygments_lexer": "ipython3",
      "version": "3.8.8"
    },
    "latex_envs": {
      "LaTeX_envs_menu_present": true,
      "autoclose": false,
      "autocomplete": true,
      "bibliofile": "biblio.bib",
      "cite_by": "apalike",
      "current_citInitial": 1,
      "eqLabelWithNumbers": true,
      "eqNumInitial": 1,
      "hotkeys": {
        "equation": "Ctrl-E",
        "itemize": "Ctrl-I"
      },
      "labels_anchors": false,
      "latex_user_defs": false,
      "report_style_numbering": false,
      "user_envs_cfg": false
    },
    "toc": {
      "base_numbering": 1,
      "nav_menu": {},
      "number_sections": true,
      "sideBar": true,
      "skip_h1_title": false,
      "title_cell": "Table of Contents",
      "title_sidebar": "Contents",
      "toc_cell": false,
      "toc_position": {},
      "toc_section_display": true,
      "toc_window_display": false
    },
    "varInspector": {
      "cols": {
        "lenName": 16,
        "lenType": 16,
        "lenVar": 40
      },
      "kernels_config": {
        "python": {
          "delete_cmd_postfix": "",
          "delete_cmd_prefix": "del ",
          "library": "var_list.py",
          "varRefreshCmd": "print(var_dic_list())"
        },
        "r": {
          "delete_cmd_postfix": ") ",
          "delete_cmd_prefix": "rm(",
          "library": "var_list.r",
          "varRefreshCmd": "cat(var_dic_list()) "
        }
      },
      "types_to_exclude": [
        "module",
        "function",
        "builtin_function_or_method",
        "instance",
        "_Feature"
      ],
      "window_display": false
    },
    "colab": {
      "provenance": [],
      "include_colab_link": true
    }
  },
  "nbformat": 4,
  "nbformat_minor": 0
}