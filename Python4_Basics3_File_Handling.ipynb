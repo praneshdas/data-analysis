{
  "nbformat": 4,
  "nbformat_minor": 0,
  "metadata": {
    "colab": {
      "provenance": [],
      "include_colab_link": true
    },
    "kernelspec": {
      "name": "python3",
      "display_name": "Python 3"
    },
    "language_info": {
      "name": "python"
    }
  },
  "cells": [
    {
      "cell_type": "markdown",
      "metadata": {
        "id": "view-in-github",
        "colab_type": "text"
      },
      "source": [
        "<a href=\"https://colab.research.google.com/github/praneshdas/data-clustering/blob/main/Python4_Basics3_File_Handling.ipynb\" target=\"_parent\"><img src=\"https://colab.research.google.com/assets/colab-badge.svg\" alt=\"Open In Colab\"/></a>"
      ]
    },
    {
      "cell_type": "markdown",
      "source": [
        "#2. Handling Files in Python\n",
        "\n",
        "##2.1 Reading files\n",
        "\n",
        "Modes: Read, Write and Append"
      ],
      "metadata": {
        "id": "kmUWsWbnYslS"
      }
    },
    {
      "cell_type": "code",
      "source": [
        "#Reading test.txt\n",
        "file = \"test.txt\"\n",
        "file1 = open(file, \"r\")"
      ],
      "metadata": {
        "id": "RV7wOJodjU-j"
      },
      "execution_count": null,
      "outputs": []
    },
    {
      "cell_type": "markdown",
      "source": [],
      "metadata": {
        "id": "aoldIwQXbd3f"
      }
    },
    {
      "cell_type": "markdown",
      "source": [],
      "metadata": {
        "id": "PKpi_5eUa3LK"
      }
    },
    {
      "cell_type": "code",
      "source": [
        "#Viewing the attributes of the file\n",
        "#Print the path of the file\n",
        "print(file1.name)\n"
      ],
      "metadata": {
        "colab": {
          "base_uri": "https://localhost:8080/"
        },
        "id": "Q5pDTts6joSk",
        "outputId": "750d595c-acfd-44ca-99ec-df2b61296e02"
      },
      "execution_count": null,
      "outputs": [
        {
          "output_type": "stream",
          "name": "stdout",
          "text": [
            "test.txt\n"
          ]
        }
      ]
    },
    {
      "cell_type": "code",
      "source": [
        "#Print the mode of the file, either 'r' or 'w'\n",
        "file1.mode"
      ],
      "metadata": {
        "colab": {
          "base_uri": "https://localhost:8080/",
          "height": 35
        },
        "id": "c4-5-FLJgbVn",
        "outputId": "785c6988-4d29-4389-d952-aab8d888ae50"
      },
      "execution_count": null,
      "outputs": [
        {
          "output_type": "execute_result",
          "data": {
            "text/plain": [
              "'r'"
            ],
            "application/vnd.google.colaboratory.intrinsic+json": {
              "type": "string"
            }
          },
          "metadata": {},
          "execution_count": 12
        }
      ]
    },
    {
      "cell_type": "code",
      "source": [
        "file_content = file1.read()\n",
        "print(file_content)"
      ],
      "metadata": {
        "colab": {
          "base_uri": "https://localhost:8080/"
        },
        "id": "q9fvgNp-gh0c",
        "outputId": "0028c191-81fd-4036-bdde-5339cec4a24f"
      },
      "execution_count": null,
      "outputs": [
        {
          "output_type": "stream",
          "name": "stdout",
          "text": [
            "Line 1\n",
            "Line 2\n",
            "Line 3\n",
            "Line 4\n",
            "Line 5\n",
            "\n"
          ]
        }
      ]
    },
    {
      "cell_type": "code",
      "source": [
        "#Close file after finish\n",
        "file1.close()"
      ],
      "metadata": {
        "id": "vgW6UCYzgkl7"
      },
      "execution_count": null,
      "outputs": []
    },
    {
      "cell_type": "markdown",
      "source": [
        "Let's try another way\n",
        "\n",
        "Using the <code>with</code> statement is better practice, it automatically closes the file even if the code encounters an exception. The code will run everything in the indent block then close the file object.\n"
      ],
      "metadata": {
        "id": "Kl_qO1m3mWEE"
      }
    },
    {
      "cell_type": "code",
      "source": [
        "#With statement to open a file\n",
        "with open(file, \"r\") as file1:\n",
        "    FileContent = file1.read()\n",
        "    print(FileContent)\n",
        "\n"
      ],
      "metadata": {
        "colab": {
          "base_uri": "https://localhost:8080/"
        },
        "id": "Uu7xZUKKm7pn",
        "outputId": "446b2778-d80b-439c-f074-1dd55263846f"
      },
      "execution_count": null,
      "outputs": [
        {
          "output_type": "stream",
          "name": "stdout",
          "text": [
            "Line 1\n",
            "Line 2\n",
            "Line 3\n",
            "Line 4\n",
            "Line 5\n",
            "\n"
          ]
        }
      ]
    },
    {
      "cell_type": "code",
      "source": [
        "#Opening a file using with\n",
        "\n",
        "with open(\"test.txt\", \"r\") as File1:\n",
        "    file_content = File1.read()\n",
        "    print(file_content)\n",
        "\n",
        "print(File1.closed)\n",
        "#print(file_content)"
      ],
      "metadata": {
        "colab": {
          "base_uri": "https://localhost:8080/"
        },
        "id": "ufOvWFbaYtKB",
        "outputId": "5b8fd514-519c-4871-a950-703f6887254d"
      },
      "execution_count": null,
      "outputs": [
        {
          "output_type": "stream",
          "name": "stdout",
          "text": [
            "Line 1\n",
            "Line 2\n",
            "Line 3\n",
            "Line 4\n",
            "Line 5\n",
            "\n",
            "True\n"
          ]
        }
      ]
    },
    {
      "cell_type": "code",
      "source": [
        "# Read certain amount of characters\n",
        "\n",
        "with open(\"test.txt\", \"r\") as file1:\n",
        "    print(file1.read(4))\n",
        "    print(file1.read(4))\n",
        "    print(file1.read(7))\n",
        "    print(file1.read(15))\n",
        "\n",
        "print(file1)"
      ],
      "metadata": {
        "colab": {
          "base_uri": "https://localhost:8080/"
        },
        "id": "HJhqEstUh-rI",
        "outputId": "6873878f-6165-440c-9686-06ab182cd9f8"
      },
      "execution_count": null,
      "outputs": [
        {
          "output_type": "stream",
          "name": "stdout",
          "text": [
            "Line\n",
            " 1\n",
            "L\n",
            "ine 2\n",
            "L\n",
            "ine 3\n",
            "Line 4\n",
            "Li\n",
            "<_io.TextIOWrapper name='test.txt' mode='r' encoding='UTF-8'>\n"
          ]
        }
      ]
    },
    {
      "cell_type": "markdown",
      "source": [
        "Reading one line of the file```readline()```"
      ],
      "metadata": {
        "id": "ghQ_wGR7wSUM"
      }
    },
    {
      "cell_type": "code",
      "source": [
        "# Read one line\n",
        "\n",
        "with open(\"test.txt\", \"r\") as file1:\n",
        "    print(\"first line: \" + file1.readline())"
      ],
      "metadata": {
        "colab": {
          "base_uri": "https://localhost:8080/"
        },
        "id": "SIO_n7mPdWS8",
        "outputId": "039cc855-b0aa-49ff-cf84-cef5814947a9"
      },
      "execution_count": null,
      "outputs": [
        {
          "output_type": "stream",
          "name": "stdout",
          "text": [
            "first line: Line 1\n",
            "\n"
          ]
        }
      ]
    },
    {
      "cell_type": "markdown",
      "source": [
        "We can also pass an arguments to  readline()  to specify the number of charecters we want to read. The readline() function can only read one line at most as we have seen in read()."
      ],
      "metadata": {
        "id": "Yfq2-M-tvdtb"
      }
    },
    {
      "cell_type": "code",
      "source": [
        "with open(\"test.txt\", \"r\") as file1:\n",
        "    print(file1.readline(20)) # does not read past the end of line\n",
        "    print(file1.read(20)) # Returns the next 20 chars"
      ],
      "metadata": {
        "id": "wmp88FnqeQU0",
        "colab": {
          "base_uri": "https://localhost:8080/"
        },
        "outputId": "551bf6ae-9f86-4953-97dd-e843fba7a182"
      },
      "execution_count": null,
      "outputs": [
        {
          "output_type": "stream",
          "name": "stdout",
          "text": [
            "Line 1\n",
            "\n",
            "Line 2\n",
            "Line 3\n",
            "Line 4\n"
          ]
        }
      ]
    },
    {
      "cell_type": "markdown",
      "source": [
        "## 2.2 Writing into files\n",
        "\n",
        "To save the text file into a list we use the ```write()``` method\n",
        "Suppose we write `Written Line 1` into the file ```test2.txt```\n",
        "\n",
        "The method .write() works similar to the method .readline(), except instead of reading a new line it writes a new line."
      ],
      "metadata": {
        "id": "bZ7r0aldJUKd"
      }
    },
    {
      "cell_type": "code",
      "source": [
        "# Write line to file\n",
        "file2 = 'test2.txt'\n",
        "with open(file2, 'w') as writefile:\n",
        "    writefile.write(\"Written Line 1\")"
      ],
      "metadata": {
        "id": "o3h2LlhFJTlI"
      },
      "execution_count": null,
      "outputs": []
    },
    {
      "cell_type": "markdown",
      "source": [
        "Displaying the contents of the updated file"
      ],
      "metadata": {
        "id": "KsLMQJnMKVwP"
      }
    },
    {
      "cell_type": "code",
      "source": [
        "# Read the given file\n",
        "with open(file2, 'r') as testwritefile:\n",
        "    print(testwritefile.read())"
      ],
      "metadata": {
        "colab": {
          "base_uri": "https://localhost:8080/"
        },
        "id": "QXdopGHMKVH5",
        "outputId": "ff4bf7e0-7cd7-4c75-874a-db8c68b0fa31"
      },
      "execution_count": null,
      "outputs": [
        {
          "output_type": "stream",
          "name": "stdout",
          "text": [
            "Written Line 1\n"
          ]
        }
      ]
    },
    {
      "cell_type": "markdown",
      "source": [
        "Writting multiple lines into a file"
      ],
      "metadata": {
        "id": "Aj7MdHAILK20"
      }
    },
    {
      "cell_type": "code",
      "source": [
        "with open(\"test3.txt\", 'w') as writefile:\n",
        "    writefile.write(\"This is line A\\n\")\n",
        "    writefile.write(\"This is line B\\n\")"
      ],
      "metadata": {
        "id": "jTfrnYXALHAI"
      },
      "execution_count": null,
      "outputs": []
    },
    {
      "cell_type": "markdown",
      "source": [
        "Checking the results"
      ],
      "metadata": {
        "id": "nyWS_c_KNBA6"
      }
    },
    {
      "cell_type": "code",
      "source": [
        "# Check whether write to file\n",
        "\n",
        "with open(\"test3.txt\", 'r') as testwritefile:\n",
        "    print(testwritefile.read())"
      ],
      "metadata": {
        "id": "fR9cOebWNfBF",
        "colab": {
          "base_uri": "https://localhost:8080/"
        },
        "outputId": "5b1c9061-a71c-42f5-b07c-bb0a350aad5b"
      },
      "execution_count": null,
      "outputs": [
        {
          "output_type": "stream",
          "name": "stdout",
          "text": [
            "This is line A\n",
            "This is line B\n",
            "\n"
          ]
        }
      ]
    },
    {
      "cell_type": "markdown",
      "source": [
        "Writting list to ```.txt``` file"
      ],
      "metadata": {
        "id": "cxY8R6yXNpob"
      }
    },
    {
      "cell_type": "code",
      "source": [
        "Lines = [\"This is line A\\n\", \"This is line B\\n\", \"This is line C\\n\"]\n",
        "\n",
        "# Write the strings in the list to text file\n",
        "\n",
        "with open('test1.txt', 'w') as writefile:\n",
        "    for line in Lines:\n",
        "        print(line)\n",
        "        writefile.write(line)"
      ],
      "metadata": {
        "colab": {
          "base_uri": "https://localhost:8080/"
        },
        "id": "sb5T5vCBN0CC",
        "outputId": "45c7322d-9c8f-4477-fa08-27632d833a37"
      },
      "execution_count": null,
      "outputs": [
        {
          "output_type": "stream",
          "name": "stdout",
          "text": [
            "This is line A\n",
            "\n",
            "This is line B\n",
            "\n",
            "This is line C\n",
            "\n"
          ]
        }
      ]
    },
    {
      "cell_type": "markdown",
      "source": [
        "Verify the written contents"
      ],
      "metadata": {
        "id": "26H2jt0SOKkt"
      }
    },
    {
      "cell_type": "code",
      "source": [
        "# Verify if writing to file is successfully executed\n",
        "\n",
        "with open('test1.txt', 'r') as testwritefile:\n",
        "    print(testwritefile.read())"
      ],
      "metadata": {
        "colab": {
          "base_uri": "https://localhost:8080/"
        },
        "id": "zwEZvX6aOFpr",
        "outputId": "16006952-d7c8-45eb-9cfc-d3078a81f964"
      },
      "execution_count": null,
      "outputs": [
        {
          "output_type": "stream",
          "name": "stdout",
          "text": [
            "This is line A\n",
            "This is line B\n",
            "This is line C\n",
            "\n"
          ]
        }
      ]
    },
    {
      "cell_type": "markdown",
      "source": [
        "```write()``` overrides the contents in a file"
      ],
      "metadata": {
        "id": "MsPXIDXJOev9"
      }
    },
    {
      "cell_type": "code",
      "source": [
        "with open('test1.txt', 'w') as writefile:\n",
        "    writefile.write(\"Overwrite\\n\")\n",
        "with open('test1.txt', 'r') as testwritefile:\n",
        "    print(testwritefile.read())"
      ],
      "metadata": {
        "colab": {
          "base_uri": "https://localhost:8080/"
        },
        "id": "Zpri7TrHObqT",
        "outputId": "09a15eae-e6a8-4f89-8eee-813576b0a622"
      },
      "execution_count": null,
      "outputs": [
        {
          "output_type": "stream",
          "name": "stdout",
          "text": [
            "Overwrite\n",
            "\n"
          ]
        }
      ]
    },
    {
      "cell_type": "markdown",
      "source": [
        "## 2.3 Appending Files\n",
        "\n",
        "We want to write into files without loosing any of the existing data as follows:"
      ],
      "metadata": {
        "id": "8NV6Hntqa0k1"
      }
    },
    {
      "cell_type": "code",
      "source": [
        "# Write a new line to text file\n",
        "\n",
        "with open('test1.txt', 'a') as testwritefile:\n",
        "    testwritefile.write(\"This is line C\\n\")\n",
        "    testwritefile.write(\"This is line D\\n\")\n",
        "    testwritefile.write(\"This is line E\\n\")"
      ],
      "metadata": {
        "id": "gTzObDtDbjAZ"
      },
      "execution_count": null,
      "outputs": []
    },
    {
      "cell_type": "markdown",
      "source": [
        "Verify the changes has reflect or not"
      ],
      "metadata": {
        "id": "IE4VgQBtc1nb"
      }
    },
    {
      "cell_type": "code",
      "source": [
        "# Verify if the new line is in the text file\n",
        "with open('test1.txt', 'r') as testwritefile:\n",
        "    print(testwritefile.read())"
      ],
      "metadata": {
        "colab": {
          "base_uri": "https://localhost:8080/"
        },
        "id": "H00Mj8qWdAHv",
        "outputId": "22252201-b0f3-48a8-e912-329f7903299c"
      },
      "execution_count": null,
      "outputs": [
        {
          "output_type": "stream",
          "name": "stdout",
          "text": [
            "Overwrite\n",
            "This is line C\n",
            "This is line D\n",
            "This is line E\n",
            "\n"
          ]
        }
      ]
    },
    {
      "cell_type": "markdown",
      "source": [
        "Copy the file ```test1.txt``` to ```test4.txt```"
      ],
      "metadata": {
        "id": "FzuOjRrusW8Y"
      }
    },
    {
      "cell_type": "code",
      "source": [
        "# Copy file to another\n",
        "\n",
        "with open('test1.txt','r') as readfile:\n",
        "    with open('test4.txt','w') as writefile:\n",
        "          for line in readfile:\n",
        "                writefile.write(line)\n",
        "                print(line)"
      ],
      "metadata": {
        "id": "av393z88uwAU",
        "colab": {
          "base_uri": "https://localhost:8080/"
        },
        "outputId": "9d273a98-2291-4ec4-89d1-122da52c1938"
      },
      "execution_count": null,
      "outputs": [
        {
          "output_type": "stream",
          "name": "stdout",
          "text": [
            "Overwrite\n",
            "\n",
            "This is line C\n",
            "\n",
            "This is line D\n",
            "\n",
            "This is line E\n",
            "\n"
          ]
        }
      ]
    },
    {
      "cell_type": "markdown",
      "source": [
        "Checking whether the copy is successful"
      ],
      "metadata": {
        "id": "CgfNEGlAvE-G"
      }
    },
    {
      "cell_type": "code",
      "source": [
        "# Verify if the copy is successfully executed\n",
        "\n",
        "with open('test4.txt','r') as testwritefile:\n",
        "    print(testwritefile.read())"
      ],
      "metadata": {
        "colab": {
          "base_uri": "https://localhost:8080/"
        },
        "id": "byV7aiMyvAMQ",
        "outputId": "62bb5f19-a512-462a-bad3-b6db1770e073"
      },
      "execution_count": null,
      "outputs": [
        {
          "output_type": "stream",
          "name": "stdout",
          "text": [
            "Overwrite\n",
            "This is line C\n",
            "This is line D\n",
            "This is line E\n",
            "\n"
          ]
        }
      ]
    },
    {
      "cell_type": "markdown",
      "source": [
        "<b>Exercise: </b> Copying a file from one file to another using the append mode."
      ],
      "metadata": {
        "id": "4sM8YzDqJk06"
      }
    }
  ]
}